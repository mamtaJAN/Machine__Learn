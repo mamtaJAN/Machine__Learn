{
 "cells": [
  {
   "cell_type": "code",
   "execution_count": 2,
   "id": "d8b134fe",
   "metadata": {},
   "outputs": [],
   "source": [
    "# Data ====> Input(X) , Target (y) \n",
    "\n",
    "# Input(x) ===> x_train , x_test \n",
    "\n",
    "# Target(y) ===> y_train , y_test "
   ]
  },
  {
   "cell_type": "code",
   "execution_count": 3,
   "id": "a855f53e",
   "metadata": {},
   "outputs": [],
   "source": [
    "# ML WorkFlow ===> \n",
    "\n",
    "# Data Gathering ===> Data Cleaning and Preprocessing ====> ML Models(x_train,y_train) \n",
    "# ===> Performance Evaluation (x_test) ===> Accuracy(y_test , y_pred)"
   ]
  },
  {
   "cell_type": "code",
   "execution_count": 4,
   "id": "3dc9d978",
   "metadata": {},
   "outputs": [],
   "source": [
    "import numpy as np \n",
    "import pandas as pd "
   ]
  },
  {
   "cell_type": "code",
   "execution_count": 5,
   "id": "5bb0169c",
   "metadata": {},
   "outputs": [],
   "source": [
    "df  = pd.read_csv(\"C:\\\\Users\\\\saurabh\\\\Desktop\\\\Newdat\\\\placement.csv\")"
   ]
  },
  {
   "cell_type": "code",
   "execution_count": 6,
   "id": "4517d7ac",
   "metadata": {},
   "outputs": [
    {
     "data": {
      "text/html": [
       "<div>\n",
       "<style scoped>\n",
       "    .dataframe tbody tr th:only-of-type {\n",
       "        vertical-align: middle;\n",
       "    }\n",
       "\n",
       "    .dataframe tbody tr th {\n",
       "        vertical-align: top;\n",
       "    }\n",
       "\n",
       "    .dataframe thead th {\n",
       "        text-align: right;\n",
       "    }\n",
       "</style>\n",
       "<table border=\"1\" class=\"dataframe\">\n",
       "  <thead>\n",
       "    <tr style=\"text-align: right;\">\n",
       "      <th></th>\n",
       "      <th>cgpa</th>\n",
       "      <th>resume_score</th>\n",
       "      <th>placed</th>\n",
       "    </tr>\n",
       "  </thead>\n",
       "  <tbody>\n",
       "    <tr>\n",
       "      <th>0</th>\n",
       "      <td>8.14</td>\n",
       "      <td>6.52</td>\n",
       "      <td>1</td>\n",
       "    </tr>\n",
       "    <tr>\n",
       "      <th>1</th>\n",
       "      <td>6.17</td>\n",
       "      <td>5.17</td>\n",
       "      <td>0</td>\n",
       "    </tr>\n",
       "    <tr>\n",
       "      <th>2</th>\n",
       "      <td>8.27</td>\n",
       "      <td>8.86</td>\n",
       "      <td>1</td>\n",
       "    </tr>\n",
       "  </tbody>\n",
       "</table>\n",
       "</div>"
      ],
      "text/plain": [
       "   cgpa  resume_score  placed\n",
       "0  8.14          6.52       1\n",
       "1  6.17          5.17       0\n",
       "2  8.27          8.86       1"
      ]
     },
     "execution_count": 6,
     "metadata": {},
     "output_type": "execute_result"
    }
   ],
   "source": [
    "df.head(3) "
   ]
  },
  {
   "cell_type": "code",
   "execution_count": 7,
   "id": "7de855d6",
   "metadata": {},
   "outputs": [],
   "source": [
    "x = df.drop(columns = ['placed'] , axis = 1)  ## Input columns \n",
    "y = df['placed']  ## Target column "
   ]
  },
  {
   "cell_type": "code",
   "execution_count": 11,
   "id": "9917bd3e",
   "metadata": {},
   "outputs": [],
   "source": [
    "# (100 , 2) + (100 , 1) = (100,3) "
   ]
  },
  {
   "cell_type": "code",
   "execution_count": null,
   "id": "7e68e3c5",
   "metadata": {},
   "outputs": [],
   "source": [
    "!pip install scikit-learn"
   ]
  },
  {
   "cell_type": "code",
   "execution_count": 12,
   "id": "00e4eaa4",
   "metadata": {},
   "outputs": [],
   "source": [
    "from sklearn.model_selection import train_test_split "
   ]
  },
  {
   "cell_type": "code",
   "execution_count": 16,
   "id": "07714ab4",
   "metadata": {},
   "outputs": [],
   "source": [
    "x_train , x_test , y_train , y_test = train_test_split(x,y,test_size = 0.3 , random_state = 30)"
   ]
  },
  {
   "cell_type": "code",
   "execution_count": 17,
   "id": "c4ae849b",
   "metadata": {},
   "outputs": [
    {
     "name": "stdout",
     "output_type": "stream",
     "text": [
      "Total Data Shape : (100, 3)\n",
      "Independet Data Shape(x) : (100, 2)\n",
      "x_train Data Shape(x_train) : (70, 2)\n",
      "x_test Data Shape(x_test) : (30, 2)\n",
      "Dependent Data Shape(y) : (100,)\n",
      "y_train Data Shape(y_train) : (70,)\n",
      "y_test Data Shape(y_test) : (30,)\n"
     ]
    }
   ],
   "source": [
    "print(\"Total Data Shape :\" , df.shape)\n",
    "print(\"Independet Data Shape(x) :\" , x.shape)\n",
    "print(\"x_train Data Shape(x_train) :\" , x_train.shape)\n",
    "print(\"x_test Data Shape(x_test) :\" , x_test.shape)\n",
    "print(\"Dependent Data Shape(y) :\" , y.shape)\n",
    "print(\"y_train Data Shape(y_train) :\" , y_train.shape)\n",
    "print(\"y_test Data Shape(y_test) :\" , y_test.shape)"
   ]
  },
  {
   "cell_type": "code",
   "execution_count": 18,
   "id": "8d25060e",
   "metadata": {},
   "outputs": [],
   "source": [
    "# df(100,3) = x(100,2) + y(100,1) \n",
    "# x(100,2) = x_train(70,2) + x_test(30,2) \n",
    "# y(100,1) = y_train(70,1) + y_test(30,1) "
   ]
  },
  {
   "cell_type": "code",
   "execution_count": 20,
   "id": "b19cd22f",
   "metadata": {},
   "outputs": [],
   "source": [
    "df  = pd.read_csv(\"C:\\\\Users\\\\saurabh\\\\Desktop\\\\Newdat\\\\tips.csv\")"
   ]
  },
  {
   "cell_type": "code",
   "execution_count": 21,
   "id": "23d246e1",
   "metadata": {},
   "outputs": [
    {
     "data": {
      "text/html": [
       "<div>\n",
       "<style scoped>\n",
       "    .dataframe tbody tr th:only-of-type {\n",
       "        vertical-align: middle;\n",
       "    }\n",
       "\n",
       "    .dataframe tbody tr th {\n",
       "        vertical-align: top;\n",
       "    }\n",
       "\n",
       "    .dataframe thead th {\n",
       "        text-align: right;\n",
       "    }\n",
       "</style>\n",
       "<table border=\"1\" class=\"dataframe\">\n",
       "  <thead>\n",
       "    <tr style=\"text-align: right;\">\n",
       "      <th></th>\n",
       "      <th>total_bill</th>\n",
       "      <th>tip</th>\n",
       "      <th>sex</th>\n",
       "      <th>smoker</th>\n",
       "      <th>day</th>\n",
       "      <th>time</th>\n",
       "      <th>size</th>\n",
       "    </tr>\n",
       "  </thead>\n",
       "  <tbody>\n",
       "    <tr>\n",
       "      <th>0</th>\n",
       "      <td>16.99</td>\n",
       "      <td>1.01</td>\n",
       "      <td>Female</td>\n",
       "      <td>No</td>\n",
       "      <td>Sun</td>\n",
       "      <td>Dinner</td>\n",
       "      <td>2</td>\n",
       "    </tr>\n",
       "    <tr>\n",
       "      <th>1</th>\n",
       "      <td>10.34</td>\n",
       "      <td>1.66</td>\n",
       "      <td>Male</td>\n",
       "      <td>No</td>\n",
       "      <td>Sun</td>\n",
       "      <td>Dinner</td>\n",
       "      <td>3</td>\n",
       "    </tr>\n",
       "  </tbody>\n",
       "</table>\n",
       "</div>"
      ],
      "text/plain": [
       "   total_bill   tip     sex smoker  day    time  size\n",
       "0       16.99  1.01  Female     No  Sun  Dinner     2\n",
       "1       10.34  1.66    Male     No  Sun  Dinner     3"
      ]
     },
     "execution_count": 21,
     "metadata": {},
     "output_type": "execute_result"
    }
   ],
   "source": [
    "df.head(2) "
   ]
  },
  {
   "cell_type": "code",
   "execution_count": 24,
   "id": "ce4ed720",
   "metadata": {},
   "outputs": [
    {
     "data": {
      "text/plain": [
       "total_bill    0\n",
       "tip           0\n",
       "sex           0\n",
       "smoker        0\n",
       "day           0\n",
       "time          0\n",
       "size          0\n",
       "dtype: int64"
      ]
     },
     "execution_count": 24,
     "metadata": {},
     "output_type": "execute_result"
    }
   ],
   "source": [
    "df.isnull().sum() "
   ]
  },
  {
   "cell_type": "code",
   "execution_count": 25,
   "id": "4830ba35",
   "metadata": {},
   "outputs": [],
   "source": [
    "x = df.drop(columns = ['total_bill'] , axis = 1)\n",
    "y = df['total_bill']"
   ]
  },
  {
   "cell_type": "code",
   "execution_count": 26,
   "id": "b302a65d",
   "metadata": {},
   "outputs": [],
   "source": [
    "from sklearn.model_selection import train_test_split "
   ]
  },
  {
   "cell_type": "code",
   "execution_count": 27,
   "id": "aa52279f",
   "metadata": {},
   "outputs": [],
   "source": [
    "x_train , x_test , y_train , y_test = train_test_split(x,y,test_size  = 0.2 , random_state = 42)"
   ]
  },
  {
   "cell_type": "code",
   "execution_count": 28,
   "id": "76b6a870",
   "metadata": {},
   "outputs": [
    {
     "name": "stdout",
     "output_type": "stream",
     "text": [
      "Total Data Shape : (244, 7)\n",
      "Independet Data Shape(x) : (244, 6)\n",
      "x_train Data Shape(x_train) : (195, 6)\n",
      "x_test Data Shape(x_test) : (49, 6)\n",
      "Dependent Data Shape(y) : (244,)\n",
      "y_train Data Shape(y_train) : (195,)\n",
      "y_test Data Shape(y_test) : (49,)\n"
     ]
    }
   ],
   "source": [
    "print(\"Total Data Shape :\" , df.shape)\n",
    "print(\"Independet Data Shape(x) :\" , x.shape)\n",
    "print(\"x_train Data Shape(x_train) :\" , x_train.shape)\n",
    "print(\"x_test Data Shape(x_test) :\" , x_test.shape)\n",
    "print(\"Dependent Data Shape(y) :\" , y.shape)\n",
    "print(\"y_train Data Shape(y_train) :\" , y_train.shape)\n",
    "print(\"y_test Data Shape(y_test) :\" , y_test.shape)"
   ]
  },
  {
   "cell_type": "code",
   "execution_count": 29,
   "id": "42e21aeb",
   "metadata": {},
   "outputs": [],
   "source": [
    "# df(244,7) = x(244,6) + y(244,1) \n",
    "\n",
    "# x(244 , 6)  = x_train(195 , 6) + x_test(49,6) \n",
    "# y(244 , 1) = y_train(195 , 1) + y_test(49,1)"
   ]
  },
  {
   "cell_type": "code",
   "execution_count": null,
   "id": "f848c98f",
   "metadata": {},
   "outputs": [],
   "source": []
  }
 ],
 "metadata": {
  "kernelspec": {
   "display_name": "Python 3 (ipykernel)",
   "language": "python",
   "name": "python3"
  },
  "language_info": {
   "codemirror_mode": {
    "name": "ipython",
    "version": 3
   },
   "file_extension": ".py",
   "mimetype": "text/x-python",
   "name": "python",
   "nbconvert_exporter": "python",
   "pygments_lexer": "ipython3",
   "version": "3.9.12"
  }
 },
 "nbformat": 4,
 "nbformat_minor": 5
}
