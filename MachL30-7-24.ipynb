{
 "cells": [
  {
   "cell_type": "code",
   "execution_count": 1,
   "id": "761f1725-acf8-4164-856d-bc513ae3e883",
   "metadata": {},
   "outputs": [
    {
     "name": "stdout",
     "output_type": "stream",
     "text": [
      "Collecting matplotlib\n",
      "  Downloading matplotlib-3.9.1-cp310-cp310-win_amd64.whl.metadata (11 kB)\n",
      "Collecting contourpy>=1.0.1 (from matplotlib)\n",
      "  Downloading contourpy-1.2.1-cp310-cp310-win_amd64.whl.metadata (5.8 kB)\n",
      "Collecting cycler>=0.10 (from matplotlib)\n",
      "  Downloading cycler-0.12.1-py3-none-any.whl.metadata (3.8 kB)\n",
      "Collecting fonttools>=4.22.0 (from matplotlib)\n",
      "  Downloading fonttools-4.53.1-cp310-cp310-win_amd64.whl.metadata (165 kB)\n",
      "     ---------------------------------------- 0.0/165.9 kB ? eta -:--:--\n",
      "     -------------------------------------  163.8/165.9 kB 5.0 MB/s eta 0:00:01\n",
      "     -------------------------------------- 165.9/165.9 kB 3.3 MB/s eta 0:00:00\n",
      "Collecting kiwisolver>=1.3.1 (from matplotlib)\n",
      "  Downloading kiwisolver-1.4.5-cp310-cp310-win_amd64.whl.metadata (6.5 kB)\n",
      "Requirement already satisfied: numpy>=1.23 in c:\\python310\\lib\\site-packages (from matplotlib) (2.0.1)\n",
      "Requirement already satisfied: packaging>=20.0 in c:\\python310\\lib\\site-packages (from matplotlib) (24.0)\n",
      "Collecting pillow>=8 (from matplotlib)\n",
      "  Downloading pillow-10.4.0-cp310-cp310-win_amd64.whl.metadata (9.3 kB)\n",
      "Collecting pyparsing>=2.3.1 (from matplotlib)\n",
      "  Downloading pyparsing-3.1.2-py3-none-any.whl.metadata (5.1 kB)\n",
      "Requirement already satisfied: python-dateutil>=2.7 in c:\\python310\\lib\\site-packages (from matplotlib) (2.9.0.post0)\n",
      "Requirement already satisfied: six>=1.5 in c:\\python310\\lib\\site-packages (from python-dateutil>=2.7->matplotlib) (1.16.0)\n",
      "Downloading matplotlib-3.9.1-cp310-cp310-win_amd64.whl (8.0 MB)\n",
      "   ---------------------------------------- 0.0/8.0 MB ? eta -:--:--\n",
      "    --------------------------------------- 0.2/8.0 MB 5.9 MB/s eta 0:00:02\n",
      "   - -------------------------------------- 0.3/8.0 MB 3.5 MB/s eta 0:00:03\n",
      "   -- ------------------------------------- 0.4/8.0 MB 2.8 MB/s eta 0:00:03\n",
      "   -- ------------------------------------- 0.5/8.0 MB 2.8 MB/s eta 0:00:03\n",
      "   --- ------------------------------------ 0.6/8.0 MB 2.8 MB/s eta 0:00:03\n",
      "   --- ------------------------------------ 0.7/8.0 MB 2.9 MB/s eta 0:00:03\n",
      "   ---- ----------------------------------- 0.8/8.0 MB 2.8 MB/s eta 0:00:03\n",
      "   ---- ----------------------------------- 0.9/8.0 MB 2.5 MB/s eta 0:00:03\n",
      "   ----- ---------------------------------- 1.0/8.0 MB 2.6 MB/s eta 0:00:03\n",
      "   ----- ---------------------------------- 1.1/8.0 MB 2.6 MB/s eta 0:00:03\n",
      "   ------ --------------------------------- 1.2/8.0 MB 2.6 MB/s eta 0:00:03\n",
      "   ------ --------------------------------- 1.4/8.0 MB 2.6 MB/s eta 0:00:03\n",
      "   ------- -------------------------------- 1.6/8.0 MB 2.8 MB/s eta 0:00:03\n",
      "   -------- ------------------------------- 1.7/8.0 MB 2.8 MB/s eta 0:00:03\n",
      "   --------- ------------------------------ 1.8/8.0 MB 2.8 MB/s eta 0:00:03\n",
      "   ---------- ----------------------------- 2.0/8.0 MB 2.9 MB/s eta 0:00:03\n",
      "   ----------- ---------------------------- 2.2/8.0 MB 3.0 MB/s eta 0:00:02\n",
      "   ----------- ---------------------------- 2.3/8.0 MB 2.9 MB/s eta 0:00:02\n",
      "   ------------ --------------------------- 2.5/8.0 MB 3.0 MB/s eta 0:00:02\n",
      "   ------------- -------------------------- 2.6/8.0 MB 3.0 MB/s eta 0:00:02\n",
      "   -------------- ------------------------- 2.8/8.0 MB 3.1 MB/s eta 0:00:02\n",
      "   --------------- ------------------------ 3.0/8.0 MB 3.2 MB/s eta 0:00:02\n",
      "   --------------- ------------------------ 3.1/8.0 MB 3.1 MB/s eta 0:00:02\n",
      "   ---------------- ----------------------- 3.3/8.0 MB 3.1 MB/s eta 0:00:02\n",
      "   ----------------- ---------------------- 3.4/8.0 MB 3.2 MB/s eta 0:00:02\n",
      "   ------------------ --------------------- 3.6/8.0 MB 3.2 MB/s eta 0:00:02\n",
      "   ------------------- -------------------- 3.9/8.0 MB 3.3 MB/s eta 0:00:02\n",
      "   -------------------- ------------------- 4.0/8.0 MB 3.3 MB/s eta 0:00:02\n",
      "   -------------------- ------------------- 4.1/8.0 MB 3.3 MB/s eta 0:00:02\n",
      "   --------------------- ------------------ 4.2/8.0 MB 3.2 MB/s eta 0:00:02\n",
      "   ---------------------- ----------------- 4.5/8.0 MB 3.3 MB/s eta 0:00:02\n",
      "   ----------------------- ---------------- 4.6/8.0 MB 3.3 MB/s eta 0:00:01\n",
      "   ------------------------ --------------- 4.9/8.0 MB 3.4 MB/s eta 0:00:01\n",
      "   ------------------------- -------------- 5.0/8.0 MB 3.4 MB/s eta 0:00:01\n",
      "   -------------------------- ------------- 5.2/8.0 MB 3.4 MB/s eta 0:00:01\n",
      "   --------------------------- ------------ 5.4/8.0 MB 3.5 MB/s eta 0:00:01\n",
      "   --------------------------- ------------ 5.5/8.0 MB 3.4 MB/s eta 0:00:01\n",
      "   ---------------------------- ----------- 5.6/8.0 MB 3.4 MB/s eta 0:00:01\n",
      "   ---------------------------- ----------- 5.7/8.0 MB 3.4 MB/s eta 0:00:01\n",
      "   ----------------------------- ---------- 5.9/8.0 MB 3.4 MB/s eta 0:00:01\n",
      "   ------------------------------ --------- 6.1/8.0 MB 3.5 MB/s eta 0:00:01\n",
      "   ------------------------------- -------- 6.2/8.0 MB 3.4 MB/s eta 0:00:01\n",
      "   ------------------------------- -------- 6.3/8.0 MB 3.4 MB/s eta 0:00:01\n",
      "   -------------------------------- ------- 6.4/8.0 MB 3.4 MB/s eta 0:00:01\n",
      "   -------------------------------- ------- 6.5/8.0 MB 3.4 MB/s eta 0:00:01\n",
      "   --------------------------------- ------ 6.6/8.0 MB 3.4 MB/s eta 0:00:01\n",
      "   ---------------------------------- ----- 6.8/8.0 MB 3.4 MB/s eta 0:00:01\n",
      "   ----------------------------------- ---- 7.0/8.0 MB 3.4 MB/s eta 0:00:01\n",
      "   ----------------------------------- ---- 7.1/8.0 MB 3.4 MB/s eta 0:00:01\n",
      "   ------------------------------------ --- 7.3/8.0 MB 3.4 MB/s eta 0:00:01\n",
      "   ------------------------------------- -- 7.5/8.0 MB 3.4 MB/s eta 0:00:01\n",
      "   -------------------------------------- - 7.7/8.0 MB 3.4 MB/s eta 0:00:01\n",
      "   ---------------------------------------  7.8/8.0 MB 3.4 MB/s eta 0:00:01\n",
      "   ---------------------------------------  8.0/8.0 MB 3.4 MB/s eta 0:00:01\n",
      "   ---------------------------------------- 8.0/8.0 MB 3.4 MB/s eta 0:00:00\n",
      "Downloading contourpy-1.2.1-cp310-cp310-win_amd64.whl (187 kB)\n",
      "   ---------------------------------------- 0.0/187.5 kB ? eta -:--:--\n",
      "   ---------------------------------------  184.3/187.5 kB 5.6 MB/s eta 0:00:01\n",
      "   ---------------------------------------- 187.5/187.5 kB 3.8 MB/s eta 0:00:00\n",
      "Downloading cycler-0.12.1-py3-none-any.whl (8.3 kB)\n",
      "Downloading fonttools-4.53.1-cp310-cp310-win_amd64.whl (2.2 MB)\n",
      "   ---------------------------------------- 0.0/2.2 MB ? eta -:--:--\n",
      "   ---- ----------------------------------- 0.2/2.2 MB 7.0 MB/s eta 0:00:01\n",
      "   -------- ------------------------------- 0.5/2.2 MB 5.8 MB/s eta 0:00:01\n",
      "   ------------- -------------------------- 0.7/2.2 MB 6.5 MB/s eta 0:00:01\n",
      "   ----------------- ---------------------- 1.0/2.2 MB 6.1 MB/s eta 0:00:01\n",
      "   ---------------------- ----------------- 1.2/2.2 MB 6.0 MB/s eta 0:00:01\n",
      "   -------------------------- ------------- 1.4/2.2 MB 6.1 MB/s eta 0:00:01\n",
      "   ----------------------------- ---------- 1.6/2.2 MB 6.0 MB/s eta 0:00:01\n",
      "   -------------------------------- ------- 1.8/2.2 MB 5.7 MB/s eta 0:00:01\n",
      "   ---------------------------------- ----- 1.9/2.2 MB 5.2 MB/s eta 0:00:01\n",
      "   ------------------------------------- -- 2.1/2.2 MB 5.0 MB/s eta 0:00:01\n",
      "   ---------------------------------------  2.2/2.2 MB 4.8 MB/s eta 0:00:01\n",
      "   ---------------------------------------- 2.2/2.2 MB 4.7 MB/s eta 0:00:00\n",
      "Downloading kiwisolver-1.4.5-cp310-cp310-win_amd64.whl (56 kB)\n",
      "   ---------------------------------------- 0.0/56.1 kB ? eta -:--:--\n",
      "   ---------------------------------------- 56.1/56.1 kB 3.1 MB/s eta 0:00:00\n",
      "Downloading pillow-10.4.0-cp310-cp310-win_amd64.whl (2.6 MB)\n",
      "   ---------------------------------------- 0.0/2.6 MB ? eta -:--:--\n",
      "   --- ------------------------------------ 0.2/2.6 MB 7.3 MB/s eta 0:00:01\n",
      "   ------ --------------------------------- 0.4/2.6 MB 5.4 MB/s eta 0:00:01\n",
      "   ----------- ---------------------------- 0.7/2.6 MB 5.6 MB/s eta 0:00:01\n",
      "   ----------------- ---------------------- 1.1/2.6 MB 6.4 MB/s eta 0:00:01\n",
      "   --------------------- ------------------ 1.4/2.6 MB 6.7 MB/s eta 0:00:01\n",
      "   -------------------------- ------------- 1.7/2.6 MB 6.3 MB/s eta 0:00:01\n",
      "   ---------------------------- ----------- 1.8/2.6 MB 6.1 MB/s eta 0:00:01\n",
      "   ----------------------------- ---------- 1.9/2.6 MB 5.4 MB/s eta 0:00:01\n",
      "   ------------------------------ --------- 2.0/2.6 MB 5.2 MB/s eta 0:00:01\n",
      "   -------------------------------- ------- 2.1/2.6 MB 4.9 MB/s eta 0:00:01\n",
      "   ---------------------------------- ----- 2.2/2.6 MB 4.6 MB/s eta 0:00:01\n",
      "   ------------------------------------- -- 2.4/2.6 MB 4.6 MB/s eta 0:00:01\n",
      "   ---------------------------------------  2.5/2.6 MB 4.5 MB/s eta 0:00:01\n",
      "   ---------------------------------------- 2.6/2.6 MB 4.4 MB/s eta 0:00:00\n",
      "Downloading pyparsing-3.1.2-py3-none-any.whl (103 kB)\n",
      "   ---------------------------------------- 0.0/103.2 kB ? eta -:--:--\n",
      "   ----------------------------------- ---- 92.2/103.2 kB 2.6 MB/s eta 0:00:01\n",
      "   ---------------------------------------- 103.2/103.2 kB 2.0 MB/s eta 0:00:00\n",
      "Installing collected packages: pyparsing, pillow, kiwisolver, fonttools, cycler, contourpy, matplotlib\n",
      "Successfully installed contourpy-1.2.1 cycler-0.12.1 fonttools-4.53.1 kiwisolver-1.4.5 matplotlib-3.9.1 pillow-10.4.0 pyparsing-3.1.2\n"
     ]
    },
    {
     "name": "stderr",
     "output_type": "stream",
     "text": [
      "\n",
      "[notice] A new release of pip is available: 24.0 -> 24.1.2\n",
      "[notice] To update, run: python.exe -m pip install --upgrade pip\n"
     ]
    },
    {
     "name": "stdout",
     "output_type": "stream",
     "text": [
      "Collecting seaborn\n",
      "  Downloading seaborn-0.13.2-py3-none-any.whl.metadata (5.4 kB)\n",
      "Requirement already satisfied: numpy!=1.24.0,>=1.20 in c:\\python310\\lib\\site-packages (from seaborn) (2.0.1)\n",
      "Requirement already satisfied: pandas>=1.2 in c:\\python310\\lib\\site-packages (from seaborn) (2.2.2)\n",
      "Requirement already satisfied: matplotlib!=3.6.1,>=3.4 in c:\\python310\\lib\\site-packages (from seaborn) (3.9.1)\n",
      "Requirement already satisfied: contourpy>=1.0.1 in c:\\python310\\lib\\site-packages (from matplotlib!=3.6.1,>=3.4->seaborn) (1.2.1)\n",
      "Requirement already satisfied: cycler>=0.10 in c:\\python310\\lib\\site-packages (from matplotlib!=3.6.1,>=3.4->seaborn) (0.12.1)\n",
      "Requirement already satisfied: fonttools>=4.22.0 in c:\\python310\\lib\\site-packages (from matplotlib!=3.6.1,>=3.4->seaborn) (4.53.1)\n",
      "Requirement already satisfied: kiwisolver>=1.3.1 in c:\\python310\\lib\\site-packages (from matplotlib!=3.6.1,>=3.4->seaborn) (1.4.5)\n",
      "Requirement already satisfied: packaging>=20.0 in c:\\python310\\lib\\site-packages (from matplotlib!=3.6.1,>=3.4->seaborn) (24.0)\n",
      "Requirement already satisfied: pillow>=8 in c:\\python310\\lib\\site-packages (from matplotlib!=3.6.1,>=3.4->seaborn) (10.4.0)\n",
      "Requirement already satisfied: pyparsing>=2.3.1 in c:\\python310\\lib\\site-packages (from matplotlib!=3.6.1,>=3.4->seaborn) (3.1.2)\n",
      "Requirement already satisfied: python-dateutil>=2.7 in c:\\python310\\lib\\site-packages (from matplotlib!=3.6.1,>=3.4->seaborn) (2.9.0.post0)\n",
      "Requirement already satisfied: pytz>=2020.1 in c:\\python310\\lib\\site-packages (from pandas>=1.2->seaborn) (2024.1)\n",
      "Requirement already satisfied: tzdata>=2022.7 in c:\\python310\\lib\\site-packages (from pandas>=1.2->seaborn) (2024.1)\n",
      "Requirement already satisfied: six>=1.5 in c:\\python310\\lib\\site-packages (from python-dateutil>=2.7->matplotlib!=3.6.1,>=3.4->seaborn) (1.16.0)\n",
      "Downloading seaborn-0.13.2-py3-none-any.whl (294 kB)\n",
      "   ---------------------------------------- 0.0/294.9 kB ? eta -:--:--\n",
      "   ---------------------- ----------------- 163.8/294.9 kB 3.3 MB/s eta 0:00:01\n",
      "   ---------------------------------------- 294.9/294.9 kB 4.5 MB/s eta 0:00:00\n",
      "Installing collected packages: seaborn\n",
      "Successfully installed seaborn-0.13.2\n"
     ]
    },
    {
     "name": "stderr",
     "output_type": "stream",
     "text": [
      "\n",
      "[notice] A new release of pip is available: 24.0 -> 24.1.2\n",
      "[notice] To update, run: python.exe -m pip install --upgrade pip\n"
     ]
    }
   ],
   "source": [
    "import numpy as np\n",
    "import pandas as pd\n",
    "#df = pd.read_csv(\".csv\")\n",
    "!pip install matplotlib\n",
    "!pip install seaborn\n"
   ]
  },
  {
   "cell_type": "code",
   "execution_count": 8,
   "id": "4d29535e-69ef-43f9-a733-ec70f90ff28d",
   "metadata": {},
   "outputs": [
    {
     "data": {
      "text/html": [
       "<div>\n",
       "<style scoped>\n",
       "    .dataframe tbody tr th:only-of-type {\n",
       "        vertical-align: middle;\n",
       "    }\n",
       "\n",
       "    .dataframe tbody tr th {\n",
       "        vertical-align: top;\n",
       "    }\n",
       "\n",
       "    .dataframe thead th {\n",
       "        text-align: right;\n",
       "    }\n",
       "</style>\n",
       "<table border=\"1\" class=\"dataframe\">\n",
       "  <thead>\n",
       "    <tr style=\"text-align: right;\">\n",
       "      <th></th>\n",
       "      <th>PassengerId</th>\n",
       "      <th>Survived</th>\n",
       "      <th>Pclass</th>\n",
       "      <th>Name</th>\n",
       "      <th>Sex</th>\n",
       "      <th>Age</th>\n",
       "      <th>SibSp</th>\n",
       "      <th>Parch</th>\n",
       "      <th>Ticket</th>\n",
       "      <th>Fare</th>\n",
       "      <th>Cabin</th>\n",
       "      <th>Embarked</th>\n",
       "    </tr>\n",
       "  </thead>\n",
       "  <tbody>\n",
       "    <tr>\n",
       "      <th>0</th>\n",
       "      <td>892</td>\n",
       "      <td>0</td>\n",
       "      <td>3</td>\n",
       "      <td>Kelly, Mr. James</td>\n",
       "      <td>male</td>\n",
       "      <td>34.5</td>\n",
       "      <td>0</td>\n",
       "      <td>0</td>\n",
       "      <td>330911</td>\n",
       "      <td>7.8292</td>\n",
       "      <td>NaN</td>\n",
       "      <td>Q</td>\n",
       "    </tr>\n",
       "    <tr>\n",
       "      <th>1</th>\n",
       "      <td>893</td>\n",
       "      <td>1</td>\n",
       "      <td>3</td>\n",
       "      <td>Wilkes, Mrs. James (Ellen Needs)</td>\n",
       "      <td>female</td>\n",
       "      <td>47.0</td>\n",
       "      <td>1</td>\n",
       "      <td>0</td>\n",
       "      <td>363272</td>\n",
       "      <td>7.0000</td>\n",
       "      <td>NaN</td>\n",
       "      <td>S</td>\n",
       "    </tr>\n",
       "    <tr>\n",
       "      <th>2</th>\n",
       "      <td>894</td>\n",
       "      <td>0</td>\n",
       "      <td>2</td>\n",
       "      <td>Myles, Mr. Thomas Francis</td>\n",
       "      <td>male</td>\n",
       "      <td>62.0</td>\n",
       "      <td>0</td>\n",
       "      <td>0</td>\n",
       "      <td>240276</td>\n",
       "      <td>9.6875</td>\n",
       "      <td>NaN</td>\n",
       "      <td>Q</td>\n",
       "    </tr>\n",
       "    <tr>\n",
       "      <th>3</th>\n",
       "      <td>895</td>\n",
       "      <td>0</td>\n",
       "      <td>3</td>\n",
       "      <td>Wirz, Mr. Albert</td>\n",
       "      <td>male</td>\n",
       "      <td>27.0</td>\n",
       "      <td>0</td>\n",
       "      <td>0</td>\n",
       "      <td>315154</td>\n",
       "      <td>8.6625</td>\n",
       "      <td>NaN</td>\n",
       "      <td>S</td>\n",
       "    </tr>\n",
       "    <tr>\n",
       "      <th>4</th>\n",
       "      <td>896</td>\n",
       "      <td>1</td>\n",
       "      <td>3</td>\n",
       "      <td>Hirvonen, Mrs. Alexander (Helga E Lindqvist)</td>\n",
       "      <td>female</td>\n",
       "      <td>22.0</td>\n",
       "      <td>1</td>\n",
       "      <td>1</td>\n",
       "      <td>3101298</td>\n",
       "      <td>12.2875</td>\n",
       "      <td>NaN</td>\n",
       "      <td>S</td>\n",
       "    </tr>\n",
       "    <tr>\n",
       "      <th>...</th>\n",
       "      <td>...</td>\n",
       "      <td>...</td>\n",
       "      <td>...</td>\n",
       "      <td>...</td>\n",
       "      <td>...</td>\n",
       "      <td>...</td>\n",
       "      <td>...</td>\n",
       "      <td>...</td>\n",
       "      <td>...</td>\n",
       "      <td>...</td>\n",
       "      <td>...</td>\n",
       "      <td>...</td>\n",
       "    </tr>\n",
       "    <tr>\n",
       "      <th>413</th>\n",
       "      <td>1305</td>\n",
       "      <td>0</td>\n",
       "      <td>3</td>\n",
       "      <td>Spector, Mr. Woolf</td>\n",
       "      <td>male</td>\n",
       "      <td>NaN</td>\n",
       "      <td>0</td>\n",
       "      <td>0</td>\n",
       "      <td>A.5. 3236</td>\n",
       "      <td>8.0500</td>\n",
       "      <td>NaN</td>\n",
       "      <td>S</td>\n",
       "    </tr>\n",
       "    <tr>\n",
       "      <th>414</th>\n",
       "      <td>1306</td>\n",
       "      <td>1</td>\n",
       "      <td>1</td>\n",
       "      <td>Oliva y Ocana, Dona. Fermina</td>\n",
       "      <td>female</td>\n",
       "      <td>39.0</td>\n",
       "      <td>0</td>\n",
       "      <td>0</td>\n",
       "      <td>PC 17758</td>\n",
       "      <td>108.9000</td>\n",
       "      <td>C105</td>\n",
       "      <td>C</td>\n",
       "    </tr>\n",
       "    <tr>\n",
       "      <th>415</th>\n",
       "      <td>1307</td>\n",
       "      <td>0</td>\n",
       "      <td>3</td>\n",
       "      <td>Saether, Mr. Simon Sivertsen</td>\n",
       "      <td>male</td>\n",
       "      <td>38.5</td>\n",
       "      <td>0</td>\n",
       "      <td>0</td>\n",
       "      <td>SOTON/O.Q. 3101262</td>\n",
       "      <td>7.2500</td>\n",
       "      <td>NaN</td>\n",
       "      <td>S</td>\n",
       "    </tr>\n",
       "    <tr>\n",
       "      <th>416</th>\n",
       "      <td>1308</td>\n",
       "      <td>0</td>\n",
       "      <td>3</td>\n",
       "      <td>Ware, Mr. Frederick</td>\n",
       "      <td>male</td>\n",
       "      <td>NaN</td>\n",
       "      <td>0</td>\n",
       "      <td>0</td>\n",
       "      <td>359309</td>\n",
       "      <td>8.0500</td>\n",
       "      <td>NaN</td>\n",
       "      <td>S</td>\n",
       "    </tr>\n",
       "    <tr>\n",
       "      <th>417</th>\n",
       "      <td>1309</td>\n",
       "      <td>0</td>\n",
       "      <td>3</td>\n",
       "      <td>Peter, Master. Michael J</td>\n",
       "      <td>male</td>\n",
       "      <td>NaN</td>\n",
       "      <td>1</td>\n",
       "      <td>1</td>\n",
       "      <td>2668</td>\n",
       "      <td>22.3583</td>\n",
       "      <td>NaN</td>\n",
       "      <td>C</td>\n",
       "    </tr>\n",
       "  </tbody>\n",
       "</table>\n",
       "<p>418 rows × 12 columns</p>\n",
       "</div>"
      ],
      "text/plain": [
       "     PassengerId  Survived  Pclass  \\\n",
       "0            892         0       3   \n",
       "1            893         1       3   \n",
       "2            894         0       2   \n",
       "3            895         0       3   \n",
       "4            896         1       3   \n",
       "..           ...       ...     ...   \n",
       "413         1305         0       3   \n",
       "414         1306         1       1   \n",
       "415         1307         0       3   \n",
       "416         1308         0       3   \n",
       "417         1309         0       3   \n",
       "\n",
       "                                             Name     Sex   Age  SibSp  Parch  \\\n",
       "0                                Kelly, Mr. James    male  34.5      0      0   \n",
       "1                Wilkes, Mrs. James (Ellen Needs)  female  47.0      1      0   \n",
       "2                       Myles, Mr. Thomas Francis    male  62.0      0      0   \n",
       "3                                Wirz, Mr. Albert    male  27.0      0      0   \n",
       "4    Hirvonen, Mrs. Alexander (Helga E Lindqvist)  female  22.0      1      1   \n",
       "..                                            ...     ...   ...    ...    ...   \n",
       "413                            Spector, Mr. Woolf    male   NaN      0      0   \n",
       "414                  Oliva y Ocana, Dona. Fermina  female  39.0      0      0   \n",
       "415                  Saether, Mr. Simon Sivertsen    male  38.5      0      0   \n",
       "416                           Ware, Mr. Frederick    male   NaN      0      0   \n",
       "417                      Peter, Master. Michael J    male   NaN      1      1   \n",
       "\n",
       "                 Ticket      Fare Cabin Embarked  \n",
       "0                330911    7.8292   NaN        Q  \n",
       "1                363272    7.0000   NaN        S  \n",
       "2                240276    9.6875   NaN        Q  \n",
       "3                315154    8.6625   NaN        S  \n",
       "4               3101298   12.2875   NaN        S  \n",
       "..                  ...       ...   ...      ...  \n",
       "413           A.5. 3236    8.0500   NaN        S  \n",
       "414            PC 17758  108.9000  C105        C  \n",
       "415  SOTON/O.Q. 3101262    7.2500   NaN        S  \n",
       "416              359309    8.0500   NaN        S  \n",
       "417                2668   22.3583   NaN        C  \n",
       "\n",
       "[418 rows x 12 columns]"
      ]
     },
     "execution_count": 8,
     "metadata": {},
     "output_type": "execute_result"
    }
   ],
   "source": [
    "df = pd.read_csv('titanic.csv')\n",
    "df"
   ]
  },
  {
   "cell_type": "code",
   "execution_count": 5,
   "id": "d414e51a-dd5a-441c-89a0-0692f8677e4d",
   "metadata": {},
   "outputs": [],
   "source": [
    "#EDA==>Exploratory Data Analysis\n"
   ]
  },
  {
   "cell_type": "code",
   "execution_count": 9,
   "id": "193d783f-c155-424e-a414-2222fcfea177",
   "metadata": {},
   "outputs": [],
   "source": [
    "#Data Types\n",
    "#1.Number data==>Continuous Data ==>Age(year,month,days),heightweight etc..\n",
    "#2.Categorical Data ==> Describe data==> total Number of Employees\n"
   ]
  },
  {
   "cell_type": "code",
   "execution_count": 10,
   "id": "396dc1e8-f080-4894-8c65-4d00b3678ae9",
   "metadata": {},
   "outputs": [],
   "source": [
    "import matplotlib.pyplot as plt\n",
    "import seaborn as sns"
   ]
  },
  {
   "cell_type": "code",
   "execution_count": 11,
   "id": "98dddfc9-fa09-4f0e-864b-423cc4aae01e",
   "metadata": {},
   "outputs": [
    {
     "data": {
      "text/plain": [
       "Index(['PassengerId', 'Survived', 'Pclass', 'Name', 'Sex', 'Age', 'SibSp',\n",
       "       'Parch', 'Ticket', 'Fare', 'Cabin', 'Embarked'],\n",
       "      dtype='object')"
      ]
     },
     "execution_count": 11,
     "metadata": {},
     "output_type": "execute_result"
    }
   ],
   "source": [
    "df.columns\n"
   ]
  },
  {
   "cell_type": "code",
   "execution_count": 13,
   "id": "85344c04-2e48-4613-8aee-38fcae7c4816",
   "metadata": {},
   "outputs": [
    {
     "data": {
      "text/plain": [
       "<Axes: xlabel='Survived', ylabel='count'>"
      ]
     },
     "execution_count": 13,
     "metadata": {},
     "output_type": "execute_result"
    },
    {
     "data": {
      "image/png": "[encoded data removed]",
      "text/plain": [
       "<Figure size 640x480 with 1 Axes>"
      ]
     },
     "metadata": {},
     "output_type": "display_data"
    }
   ],
   "source": [
    "sns.countplot(x=df['Survived'])"
   ]
  },
  {
   "cell_type": "code",
   "execution_count": 14,
   "id": "62d4447d-c61b-40e6-93f6-3b4e8a1555e7",
   "metadata": {},
   "outputs": [],
   "source": [
    "#if we want to see actual values then we use value_count\n"
   ]
  },
  {
   "cell_type": "code",
   "execution_count": 16,
   "id": "bda7c1f3-3794-4ec0-96f4-5dd37b30af69",
   "metadata": {},
   "outputs": [
    {
     "data": {
      "text/plain": [
       "<Axes: xlabel='Survived'>"
      ]
     },
     "execution_count": 16,
     "metadata": {},
     "output_type": "execute_result"
    },
    {
     "data": {
      "image/png": "[encoded data removed]",
      "text/plain": [
       "<Figure size 640x480 with 1 Axes>"
      ]
     },
     "metadata": {},
     "output_type": "display_data"
    }
   ],
   "source": [
    "df['Survived'].value_counts().plot(kind='bar')"
   ]
  },
  {
   "cell_type": "code",
   "execution_count": 17,
   "id": "152afbf4-6384-41a8-8865-bf6a08ef7076",
   "metadata": {},
   "outputs": [
    {
     "data": {
      "text/plain": [
       "<Axes: xlabel='Pclass', ylabel='count'>"
      ]
     },
     "execution_count": 17,
     "metadata": {},
     "output_type": "execute_result"
    },
    {
     "data": {
      "image/png": "[encoded data removed]",
      "text/plain": [
       "<Figure size 640x480 with 1 Axes>"
      ]
     },
     "metadata": {},
     "output_type": "display_data"
    }
   ],
   "source": [
    "#if we want to check  for pclass then\n",
    "sns.countplot(x=df['Pclass'])"
   ]
  },
  {
   "cell_type": "code",
   "execution_count": 19,
   "id": "f30e0896-95cf-4f6e-a3f4-af69f1b844bb",
   "metadata": {},
   "outputs": [
    {
     "data": {
      "text/plain": [
       "Survived\n",
       "0    266\n",
       "1    152\n",
       "Name: count, dtype: int64"
      ]
     },
     "execution_count": 19,
     "metadata": {},
     "output_type": "execute_result"
    }
   ],
   "source": [
    "#it we want to find out percentage then use piechart\n",
    "df ['Survived'].value_counts()"
   ]
  },
  {
   "cell_type": "code",
   "execution_count": 22,
   "id": "1106ee7d-72e1-435c-ad6a-d9f07c8a9015",
   "metadata": {},
   "outputs": [
    {
     "data": {
      "text/plain": [
       "<Axes: ylabel='count'>"
      ]
     },
     "execution_count": 22,
     "metadata": {},
     "output_type": "execute_result"
    },
    {
     "data": {
      "image/png": "[encoded data removed]",
      "text/plain": [
       "<Figure size 640x480 with 1 Axes>"
      ]
     },
     "metadata": {},
     "output_type": "display_data"
    }
   ],
   "source": [
    "df['Survived'].value_counts().plot(kind='pie',autopct='%.2f')"
   ]
  },
  {
   "cell_type": "code",
   "execution_count": 23,
   "id": "b419e868-4dd4-4d82-a193-20cb0db9f60f",
   "metadata": {},
   "outputs": [
    {
     "data": {
      "text/plain": [
       "(array([16., 16., 71., 97., 43., 37., 25., 17.,  9.,  1.]),\n",
       " array([ 0.17 ,  7.753, 15.336, 22.919, 30.502, 38.085, 45.668, 53.251,\n",
       "        60.834, 68.417, 76.   ]),\n",
       " <BarContainer object of 10 artists>)"
      ]
     },
     "execution_count": 23,
     "metadata": {},
     "output_type": "execute_result"
    },
    {
     "data": {
      "image/png": "[encoded data removed]",
      "text/plain": [
       "<Figure size 640x480 with 1 Axes>"
      ]
     },
     "metadata": {},
     "output_type": "display_data"
    }
   ],
   "source": [
    "#If we have Numerical data then we use histogram.......\n",
    "#\n",
    "plt.hist(x=df['Age'])\n",
    "#plt.show()"
   ]
  },
  {
   "cell_type": "code",
   "execution_count": 24,
   "id": "6f43bef1-8187-4550-942f-4bb6b94aeeb5",
   "metadata": {},
   "outputs": [
    {
     "name": "stderr",
     "output_type": "stream",
     "text": [
      "C:\\Users\\DELL\\AppData\\Local\\Temp\\ipykernel_6592\\1301708979.py:5: UserWarning: \n",
      "\n",
      "`distplot` is a deprecated function and will be removed in seaborn v0.14.0.\n",
      "\n",
      "Please adapt your code to use either `displot` (a figure-level function with\n",
      "similar flexibility) or `histplot` (an axes-level function for histograms).\n",
      "\n",
      "For a guide to updating your code to use the new functions, please see\n",
      "https://gist.github.com/mwaskom/de44147ed2974457ad6372750bbe5751\n",
      "\n",
      "  sns.distplot(x=df['Age'])\n"
     ]
    },
    {
     "data": {
      "text/plain": [
       "<Axes: ylabel='Density'>"
      ]
     },
     "execution_count": 24,
     "metadata": {},
     "output_type": "execute_result"
    },
    {
     "data": {
      "image/png": "[encoded data removed]",
      "text/plain": [
       "<Figure size 640x480 with 1 Axes>"
      ]
     },
     "metadata": {},
     "output_type": "display_data"
    }
   ],
   "source": [
    "#2.Displot\n",
    "#curve==> KDE (kernal density extraction)\n",
    "\n",
    "#use for find probability\n",
    "sns.distplot(x=df['Age'])"
   ]
  },
  {
   "cell_type": "code",
   "execution_count": 25,
   "id": "d07f3a02-4d83-4962-99a0-2847ccc9e244",
   "metadata": {},
   "outputs": [
    {
     "name": "stderr",
     "output_type": "stream",
     "text": [
      "C:\\Users\\DELL\\AppData\\Local\\Temp\\ipykernel_6592\\970547218.py:1: UserWarning: \n",
      "\n",
      "`distplot` is a deprecated function and will be removed in seaborn v0.14.0.\n",
      "\n",
      "Please adapt your code to use either `displot` (a figure-level function with\n",
      "similar flexibility) or `kdeplot` (an axes-level function for kernel density plots).\n",
      "\n",
      "For a guide to updating your code to use the new functions, please see\n",
      "https://gist.github.com/mwaskom/de44147ed2974457ad6372750bbe5751\n",
      "\n",
      "  sns.distplot(x=df['Age'],hist=False)\n"
     ]
    },
    {
     "data": {
      "text/plain": [
       "<Axes: ylabel='Density'>"
      ]
     },
     "execution_count": 25,
     "metadata": {},
     "output_type": "execute_result"
    },
    {
     "data": {
      "image/png": "[encoded data removed]",
      "text/plain": [
       "<Figure size 640x480 with 1 Axes>"
      ]
     },
     "metadata": {},
     "output_type": "display_data"
    }
   ],
   "source": [
    "sns.distplot(x=df['Age'],hist=False)"
   ]
  },
  {
   "cell_type": "code",
   "execution_count": 32,
   "id": "01214eae-5276-4cef-bc4e-fa5a07168a16",
   "metadata": {},
   "outputs": [],
   "source": [
    "#3.Boxplot \n",
    "#for find our outliers\n",
    "#1. Lower fence\n",
    "#2.25% data\n",
    "#3.IQR (Inter Quartile Range)(75% -25%)\n",
    "#4.75% data\n",
    "#5.upper fence\n",
    "\n",
    "\n",
    "# x-1,2,3,4,5\n",
    "#mean=(1+2+3+4+5)/5=15/5=3 ## HERE 100 Is outlier\n",
    "#mean=15+100/6=115/6=19.3\n"
   ]
  },
  {
   "cell_type": "code",
   "execution_count": 31,
   "id": "d10c451f-7c62-4320-9f7f-0f465854f669",
   "metadata": {},
   "outputs": [
    {
     "data": {
      "text/plain": [
       "<Axes: xlabel='Age'>"
      ]
     },
     "execution_count": 31,
     "metadata": {},
     "output_type": "execute_result"
    },
    {
     "data": {
      "image/png": "[encoded data removed]",
      "text/plain": [
       "<Figure size 640x480 with 1 Axes>"
      ]
     },
     "metadata": {},
     "output_type": "display_data"
    }
   ],
   "source": [
    "sns.boxplot(x=df['Age'])"
   ]
  },
  {
   "cell_type": "code",
   "execution_count": null,
   "id": "2cc7caa3-addb-4962-aeb0-6f39b3f414ee",
   "metadata": {},
   "outputs": [],
   "source": []
  }
 ],
 "metadata": {
  "kernelspec": {
   "display_name": "Python 3 (ipykernel)",
   "language": "python",
   "name": "python3"
  },
  "language_info": {
   "codemirror_mode": {
    "name": "ipython",
    "version": 3
   },
   "file_extension": ".py",
   "mimetype": "text/x-python",
   "name": "python",
   "nbconvert_exporter": "python",
   "pygments_lexer": "ipython3",
   "version": "3.10.11"
  }
 },
 "nbformat": 4,
 "nbformat_minor": 5
}
