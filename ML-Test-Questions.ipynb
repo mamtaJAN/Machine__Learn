{
 "cells": [
  {
   "cell_type": "code",
   "execution_count": 7,
   "id": "35090739-05c1-4926-b3fa-5b9984feba55",
   "metadata": {},
   "outputs": [],
   "source": [
    "#1. What is Pandas? Explain its importance in the Python data ecosystem.\n",
    "\n",
    "#A 1 - Pandas is a powerful open-source data analysis and data manipulation library\n",
    "#for Python. It provides data structures like Series and DataFrame, which\n",
    "#are ideal for working with structured data. Pandas is built on top of NumPy\n",
    "#and is a crucial component in the Python data ecosystem due to its ease of use,\n",
    "#flexibility, and ability to handle large datasets efficiently."
   ]
  },
  {
   "cell_type": "code",
   "execution_count": 8,
   "id": "a3627754-792f-4cb1-afef-6458ef064bcb",
   "metadata": {},
   "outputs": [
    {
     "data": {
      "text/plain": [
       "{'Name': ['Alice', 'Bob'], 'Age': [25, 30]}"
      ]
     },
     "execution_count": 8,
     "metadata": {},
     "output_type": "execute_result"
    }
   ],
   "source": [
    "import pandas as pd\n",
    "data = {'Name': ['Alice', 'Bob'], 'Age': [25, 30]}\n",
    "df = pd.DataFrame(data)\n",
    "data"
   ]
  },
  {
   "cell_type": "code",
   "execution_count": 9,
   "id": "44106a74-d62f-4a43-9b33-6905480e322f",
   "metadata": {},
   "outputs": [
    {
     "name": "stdout",
     "output_type": "stream",
     "text": [
      "    Name  Age\n",
      "0  Alice   25\n",
      "1    Bob   30\n"
     ]
    }
   ],
   "source": [
    "print(df)"
   ]
  },
  {
   "cell_type": "code",
   "execution_count": 10,
   "id": "05f6b650-7ef6-44b9-8337-8718c832dfc0",
   "metadata": {},
   "outputs": [],
   "source": [
    "#3. Explain the difference between Series and DataFrame in Pandas.\n",
    "\n",
    "#Series: A one-dimensional array-like object that can hold any data type. It has an index,\n",
    "#which can be used to access individual elements.\n",
    "    \n",
    "#DataFrame: A two-dimensional, size-mutable, and potentially heterogeneous tabular data\n",
    "#structure with labeled axes (rows and columns). It is essentially a collection of Series\n",
    "#objects."
   ]
  },
  {
   "cell_type": "code",
   "execution_count": 15,
   "id": "e80545fb-deb0-4587-b97f-281bcadfd296",
   "metadata": {},
   "outputs": [
    {
     "data": {
      "text/plain": [
       "{'A': [1, 2, 3, None], 'B': [4, None, 6, 7]}"
      ]
     },
     "execution_count": 15,
     "metadata": {},
     "output_type": "execute_result"
    }
   ],
   "source": [
    "data = {'A': [1, 2, 3, None], 'B': [4, None, 6, 7]}\n",
    "df = pd.DataFrame(data)\n",
    "data"
   ]
  },
  {
   "cell_type": "code",
   "execution_count": 19,
   "id": "61cbfc83-70dc-4398-b6d8-74f4026fbdb1",
   "metadata": {},
   "outputs": [
    {
     "name": "stdout",
     "output_type": "stream",
     "text": [
      "     A    B\n",
      "0  1.0  4.0\n",
      "1  2.0  NaN\n",
      "2  3.0  6.0\n",
      "3  NaN  7.0\n"
     ]
    }
   ],
   "source": [
    "print(df)"
   ]
  },
  {
   "cell_type": "code",
   "execution_count": 20,
   "id": "66fcd45d-c913-4a2d-bdcd-093482092ab1",
   "metadata": {},
   "outputs": [
    {
     "name": "stdout",
     "output_type": "stream",
     "text": [
      "     A    B\n",
      "0  1.0  4.0\n",
      "2  3.0  6.0\n"
     ]
    }
   ],
   "source": [
    "if df.isnull().values.any():\n",
    "    df.dropna(inplace=True)\n",
    "\n",
    "print(df)"
   ]
  },
  {
   "cell_type": "code",
   "execution_count": 22,
   "id": "dc7c300e-2869-40b9-9d7c-33690f4e5841",
   "metadata": {},
   "outputs": [
    {
     "data": {
      "text/plain": [
       "{'A': [1, 2, 3, None], 'B': [4, None, 6, 7]}"
      ]
     },
     "execution_count": 22,
     "metadata": {},
     "output_type": "execute_result"
    }
   ],
   "source": [
    "data = {'A': [1, 2, 3, None], 'B': [4, None, 6, 7]}\n",
    "df = pd.DataFrame(data)\n",
    "data"
   ]
  },
  {
   "cell_type": "code",
   "execution_count": 23,
   "id": "63433325-9695-43d3-bf63-cfd341740a77",
   "metadata": {},
   "outputs": [
    {
     "name": "stdout",
     "output_type": "stream",
     "text": [
      "     A    B\n",
      "0  1.0  4.0\n",
      "1  2.0  NaN\n",
      "2  3.0  6.0\n",
      "3  NaN  7.0\n"
     ]
    }
   ],
   "source": [
    "print(df)"
   ]
  },
  {
   "cell_type": "code",
   "execution_count": 24,
   "id": "7144b48e-5b72-46e9-b523-c0ecf96fe11a",
   "metadata": {},
   "outputs": [
    {
     "name": "stdout",
     "output_type": "stream",
     "text": [
      "     A    B\n",
      "0  1.0  4.0\n",
      "1  2.0  0.0\n",
      "2  3.0  6.0\n",
      "3  0.0  7.0\n"
     ]
    }
   ],
   "source": [
    "df_filled = df.fillna(0)\n",
    "\n",
    "print(df_filled)"
   ]
  },
  {
   "cell_type": "code",
   "execution_count": 27,
   "id": "70372de4-e753-457d-9a26-09b90c2429ad",
   "metadata": {},
   "outputs": [
    {
     "name": "stdout",
     "output_type": "stream",
     "text": [
      "     A\n",
      "0  1.0\n",
      "1  2.0\n"
     ]
    }
   ],
   "source": [
    "selected_data = df.loc[[0,1], ['A']]\n",
    "print(selected_data)\n"
   ]
  },
  {
   "cell_type": "code",
   "execution_count": 28,
   "id": "030de0e5-8ab0-4a0f-98ba-3cc2d2a9e03d",
   "metadata": {},
   "outputs": [
    {
     "name": "stdout",
     "output_type": "stream",
     "text": [
      "DataFrame 1:\n",
      "  key  value1\n",
      "0   A       1\n",
      "1   B       2\n",
      "2   C       3\n",
      "3   D       4\n",
      "\n",
      "DataFrame 2:\n",
      "  key  value2\n",
      "0   B       5\n",
      "1   D       6\n",
      "2   E       7\n",
      "3   F       8\n"
     ]
    }
   ],
   "source": [
    "data1 = {\n",
    "    'key': ['A', 'B', 'C', 'D'],\n",
    "    'value1': [1, 2, 3, 4]\n",
    "}\n",
    "df1 = pd.DataFrame(data1)\n",
    "\n",
    "\n",
    "data2 = {\n",
    "    'key': ['B', 'D', 'E', 'F'],\n",
    "    'value2': [5, 6, 7, 8]\n",
    "}\n",
    "df2 = pd.DataFrame(data2)\n",
    "\n",
    "print(\"DataFrame 1:\")\n",
    "print(df1)\n",
    "print(\"\\nDataFrame 2:\")\n",
    "print(df2)"
   ]
  },
  {
   "cell_type": "code",
   "execution_count": 29,
   "id": "9db948a1-0267-467a-ad38-96c5aa62a525",
   "metadata": {},
   "outputs": [
    {
     "name": "stdout",
     "output_type": "stream",
     "text": [
      "\n",
      "Merged DataFrame:\n",
      "  key  value1  value2\n",
      "0   B       2       5\n",
      "1   D       4       6\n"
     ]
    }
   ],
   "source": [
    "merged_df = pd.merge(df1, df2, on='key')\n",
    "\n",
    "print(\"\\nMerged DataFrame:\")\n",
    "print(merged_df)\n"
   ]
  },
  {
   "cell_type": "code",
   "execution_count": 33,
   "id": "d179a55e-f5f6-426a-a5dc-cc55e1d49bdf",
   "metadata": {},
   "outputs": [
    {
     "name": "stdout",
     "output_type": "stream",
     "text": [
      "  key  value1  value2\n",
      "0   A       1     NaN\n",
      "1   B       2     5.0\n",
      "2   C       3     NaN\n",
      "3   D       4     6.0\n"
     ]
    }
   ],
   "source": [
    "merged_df = pd.merge(df1, df2, on='key', how='left')\n",
    "print(merged_df)\n"
   ]
  },
  {
   "cell_type": "code",
   "execution_count": 34,
   "id": "16d4ffbb-ad73-4127-b268-5f3aa304a5f1",
   "metadata": {},
   "outputs": [
    {
     "name": "stdout",
     "output_type": "stream",
     "text": [
      "   A   B\n",
      "0  1  16\n",
      "1  4  25\n",
      "2  9  36\n"
     ]
    },
    {
     "name": "stderr",
     "output_type": "stream",
     "text": [
      "C:\\Users\\Harsh Jain\\AppData\\Local\\Temp\\ipykernel_6816\\3835911504.py:6: FutureWarning: DataFrame.applymap has been deprecated. Use DataFrame.map instead.\n",
      "  df_squared = df.applymap(square)\n"
     ]
    }
   ],
   "source": [
    "df = pd.DataFrame({'A': [1, 2, 3], 'B': [4, 5, 6]})\n",
    "\n",
    "def square(x):\n",
    "    return x ** 2\n",
    "\n",
    "df_squared = df.applymap(square)\n",
    "\n",
    "print(df_squared)"
   ]
  },
  {
   "cell_type": "code",
   "execution_count": 35,
   "id": "22f9cd2d-9f2c-4883-a7ee-6b1c789b952e",
   "metadata": {},
   "outputs": [
    {
     "name": "stdout",
     "output_type": "stream",
     "text": [
      "Team\n",
      "A    11\n",
      "B     9\n",
      "C    17\n",
      "Name: Score, dtype: int64\n"
     ]
    }
   ],
   "source": [
    "#groupby in pandas is a powerful and versatile method that allows you to group data based\n",
    "#on one or more keys and then apply aggregate functions or transformations to each group.\n",
    "#It is particularly useful for analyzing data across different categories or segments.\n",
    "\n",
    "data = {\n",
    "    'Team': ['A', 'A', 'B', 'B', 'C', 'C'],\n",
    "    'Player': ['John', 'Mike', 'Sarah', 'Tom', 'Jerry', 'Alice'],\n",
    "    'Score': [5, 6, 7, 2, 9, 8]\n",
    "}\n",
    "\n",
    "df = pd.DataFrame(data)\n",
    "\n",
    "grouped_df = df.groupby('Team')['Score'].sum()\n",
    "\n",
    "print(grouped_df)"
   ]
  },
  {
   "cell_type": "code",
   "execution_count": 36,
   "id": "3184bc37-a0b3-427b-90ee-83b207c45bb0",
   "metadata": {},
   "outputs": [
    {
     "name": "stdout",
     "output_type": "stream",
     "text": [
      "City        Los Angeles  New York\n",
      "Date                             \n",
      "2021-01-01           75        30\n",
      "2021-01-02           78        32\n"
     ]
    }
   ],
   "source": [
    "import pandas as pd\n",
    "\n",
    "data = {\n",
    "    'Date': ['2021-01-01', '2021-01-01', '2021-01-02', '2021-01-02'],\n",
    "    'City': ['New York', 'Los Angeles', 'New York', 'Los Angeles'],\n",
    "    'Temperature': [30, 75, 32, 78]\n",
    "}\n",
    "\n",
    "df = pd.DataFrame(data)\n",
    "\n",
    "\n",
    "pivot_df = df.pivot(index='Date', columns='City', values='Temperature')\n",
    "\n",
    "print(pivot_df)\n"
   ]
  },
  {
   "cell_type": "code",
   "execution_count": 37,
   "id": "09c20372-7250-4a20-a909-a9c4b73b7d00",
   "metadata": {},
   "outputs": [
    {
     "name": "stdout",
     "output_type": "stream",
     "text": [
      "   new_name1  new_name2\n",
      "0          1          4\n",
      "1          2          5\n",
      "2          3          6\n"
     ]
    }
   ],
   "source": [
    "import pandas as pd\n",
    "\n",
    "df = pd.DataFrame({\n",
    "    'old_name1': [1, 2, 3],\n",
    "    'old_name2': [4, 5, 6]\n",
    "})\n",
    "\n",
    "df = df.rename(columns={'old_name1': 'new_name1', 'old_name2': 'new_name2'})\n",
    "print(df)\n"
   ]
  },
  {
   "cell_type": "code",
   "execution_count": 38,
   "id": "97644007-fcd6-4ed8-8d57-ebb6ffe527ad",
   "metadata": {},
   "outputs": [
    {
     "name": "stdout",
     "output_type": "stream",
     "text": [
      "      Name  Age  Score\n",
      "2  Charlie   22     75\n",
      "0    Alice   25     85\n",
      "1      Bob   30     95\n"
     ]
    }
   ],
   "source": [
    "df = pd.DataFrame({\n",
    "    'Name': ['Alice', 'Bob', 'Charlie'],\n",
    "    'Age': [25, 30, 22],\n",
    "    'Score': [85, 95, 75]\n",
    "})\n",
    "\n",
    "# Sort by 'Age'\n",
    "df_sorted = df.sort_values(by='Age')\n",
    "print(df_sorted)\n"
   ]
  },
  {
   "cell_type": "code",
   "execution_count": 39,
   "id": "87d4bd1f-0fc1-4c8c-af37-7e1e25a30bf2",
   "metadata": {},
   "outputs": [
    {
     "name": "stdout",
     "output_type": "stream",
     "text": [
      "Inner Join:\n",
      "    A  B  C\n",
      "0  3  z  a\n",
      "Left Join:\n",
      "    A  B    C\n",
      "0  1  x  NaN\n",
      "1  2  y  NaN\n",
      "2  3  z    a\n",
      "Right Join:\n",
      "    A    B  C\n",
      "0  3    z  a\n",
      "1  4  NaN  b\n",
      "2  5  NaN  c\n",
      "Full Join:\n",
      "    A    B    C\n",
      "0  1    x  NaN\n",
      "1  2    y  NaN\n",
      "2  3    z    a\n",
      "3  4  NaN    b\n",
      "4  5  NaN    c\n",
      "Concatenation:\n",
      "    A  B  A  C\n",
      "0  1  x  3  a\n",
      "1  2  y  4  b\n",
      "2  3  z  5  c\n"
     ]
    }
   ],
   "source": [
    "df1 = pd.DataFrame({\n",
    "    'A': [1, 2, 3],\n",
    "    'B': ['x', 'y', 'z']\n",
    "})\n",
    "\n",
    "df2 = pd.DataFrame({\n",
    "    'A': [3, 4, 5],\n",
    "    'C': ['a', 'b', 'c']\n",
    "})\n",
    "\n",
    "# Inner Join on column 'A'\n",
    "inner_join = pd.merge(df1, df2, on='A', how='inner')\n",
    "\n",
    "# Left Join on column 'A'\n",
    "left_join = pd.merge(df1, df2, on='A', how='left')\n",
    "\n",
    "# Right Join on column 'A'\n",
    "right_join = pd.merge(df1, df2, on='A', how='right')\n",
    "\n",
    "# Full Join on column 'A'\n",
    "full_join = pd.merge(df1, df2, on='A', how='outer')\n",
    "\n",
    "# Concatenation\n",
    "concat_df = pd.concat([df1, df2], axis=1)\n",
    "\n",
    "print(\"Inner Join:\\n\", inner_join)\n",
    "print(\"Left Join:\\n\", left_join)\n",
    "print(\"Right Join:\\n\", right_join)\n",
    "print(\"Full Join:\\n\", full_join)\n",
    "print(\"Concatenation:\\n\", concat_df)"
   ]
  },
  {
   "cell_type": "code",
   "execution_count": 40,
   "id": "eb7e2a3e-5a45-4440-b881-48f7bf1fca89",
   "metadata": {},
   "outputs": [
    {
     "name": "stdout",
     "output_type": "stream",
     "text": [
      "   A  B   C\n",
      "0  1  5   9\n",
      "1  2  6  10\n",
      "3  3  7  11\n",
      "4  4  8  12\n"
     ]
    }
   ],
   "source": [
    "data = {\n",
    "    'A': [1, 2, 2, 3, 4, 4],\n",
    "    'B': [5, 6, 6, 7, 8, 8],\n",
    "    'C': [9, 10, 10, 11, 12, 12]\n",
    "}\n",
    "df = pd.DataFrame(data)\n",
    "\n",
    "# Drop duplicate rows\n",
    "df_unique = df.drop_duplicates()\n",
    "\n",
    "print(df_unique)"
   ]
  },
  {
   "cell_type": "code",
   "execution_count": 41,
   "id": "bbe62071-2557-484c-a702-38d230226766",
   "metadata": {},
   "outputs": [
    {
     "data": {
      "image/png": "[encoded data removed]",
      "text/plain": [
       "<Figure size 640x480 with 1 Axes>"
      ]
     },
     "metadata": {},
     "output_type": "display_data"
    }
   ],
   "source": [
    "import matplotlib.pyplot as plt\n",
    "\n",
    "# Sample DataFrame\n",
    "data = {\n",
    "    'A': [1, 2, 3, 4, 5],\n",
    "    'B': [5, 6, 7, 8, 9],\n",
    "    'C': [9, 10, 11, 12, 13]\n",
    "}\n",
    "df = pd.DataFrame(data)\n",
    "\n",
    "# Bar plot for columns A and C\n",
    "df.plot(x='A', y='C', kind='bar')\n",
    "plt.title('Bar Plot of A vs C')\n",
    "plt.xlabel('A')\n",
    "plt.ylabel('C')\n",
    "plt.show()\n"
   ]
  },
  {
   "cell_type": "code",
   "execution_count": 42,
   "id": "9ec7adad-e54d-4254-a9b5-13bb415a1439",
   "metadata": {},
   "outputs": [
    {
     "name": "stdout",
     "output_type": "stream",
     "text": [
      "Team\n",
      "A    11\n",
      "B     9\n",
      "C    17\n",
      "Name: Score, dtype: int64\n"
     ]
    }
   ],
   "source": [
    "data = {\n",
    "    'Team': ['A', 'A', 'B', 'B', 'C', 'C'],\n",
    "    'Player': ['John', 'Mike', 'Sarah', 'Tom', 'Jerry', 'Alice'],\n",
    "    'Score': [5, 6, 7, 2, 9, 8]\n",
    "}\n",
    "\n",
    "df = pd.DataFrame(data)\n",
    "\n",
    "grouped_df = df.groupby('Team')['Score'].sum()\n",
    "\n",
    "print(grouped_df)"
   ]
  },
  {
   "cell_type": "code",
   "execution_count": 43,
   "id": "30bcf29c-b52a-4b2d-be3b-8134af9e8178",
   "metadata": {},
   "outputs": [
    {
     "name": "stdout",
     "output_type": "stream",
     "text": [
      "    Name  Age  Score\n",
      "1    Bob   27     63\n",
      "3  David   32     93\n",
      "4    Eve   29     68\n",
      "      Name  Age  Score\n",
      "0    Alice   24     85\n",
      "2  Charlie   22     77\n"
     ]
    }
   ],
   "source": [
    "data = {\n",
    "    'Name': ['Alice', 'Bob', 'Charlie', 'David', 'Eve'],\n",
    "    'Age': [24, 27, 22, 32, 29],\n",
    "    'Score': [85, 63, 77, 93, 68]\n",
    "}\n",
    "df = pd.DataFrame(data)\n",
    "\n",
    "# Filter rows where Age is greater than 25\n",
    "filtered_df = df[df['Age'] > 25]\n",
    "print(filtered_df)\n",
    "\n",
    "# Filter rows where Score is between 70 and 90\n",
    "filtered_df = df[(df['Score'] >= 70) & (df['Score'] <= 90)]\n",
    "print(filtered_df)"
   ]
  },
  {
   "cell_type": "code",
   "execution_count": 44,
   "id": "54d4f03d-120d-4434-8896-df9d055bfc2f",
   "metadata": {},
   "outputs": [
    {
     "name": "stdout",
     "output_type": "stream",
     "text": [
      "     A    B\n",
      "0  1.0  4.0\n",
      "1  2.0  0.0\n",
      "2  3.0  6.0\n",
      "3  0.0  7.0\n"
     ]
    }
   ],
   "source": [
    "data = {'A': [1, 2, 3, None], 'B': [4, None, 6, 7]}\n",
    "df = pd.DataFrame(data)\n",
    "data\n",
    "\n",
    "df_filled = df.fillna(0)\n",
    "\n",
    "print(df_filled)\n",
    "\n"
   ]
  },
  {
   "cell_type": "code",
   "execution_count": 45,
   "id": "7e5da231-2722-48c9-b638-3e137aa68c09",
   "metadata": {},
   "outputs": [
    {
     "name": "stdout",
     "output_type": "stream",
     "text": [
      "     A    B\n",
      "0  1.0  4.0\n",
      "2  3.0  6.0\n"
     ]
    }
   ],
   "source": [
    "data = {'A': [1, 2, 3, None], 'B': [4, None, 6, 7]}\n",
    "df = pd.DataFrame(data)\n",
    "data\n",
    "\n",
    "if df.isnull().values.any():\n",
    "    df.dropna(inplace=True)\n",
    "\n",
    "print(df)\n"
   ]
  },
  {
   "cell_type": "code",
   "execution_count": 47,
   "id": "a431bb05-f9ed-477b-8c74-0eb0af7ba7c1",
   "metadata": {},
   "outputs": [
    {
     "name": "stdout",
     "output_type": "stream",
     "text": [
      "     A    B    C\n",
      "A  1.0  1.0 -1.0\n",
      "B  1.0  1.0 -1.0\n",
      "C -1.0 -1.0  1.0\n"
     ]
    }
   ],
   "source": [
    "data = {\n",
    "    'A': [1, 2, 3, 4, 5],\n",
    "    'B': [2, 4, 6, 8, 10],\n",
    "    'C': [5, 4, 3, 2, 1]\n",
    "}\n",
    "\n",
    "df = pd.DataFrame(data)\n",
    "\n",
    "# Correlation matrix\n",
    "correlation_matrix = df.corr()\n",
    "print(correlation_matrix)"
   ]
  },
  {
   "cell_type": "code",
   "execution_count": 48,
   "id": "19250ff3-26c7-43ed-b4b8-bf1e75bf1d7a",
   "metadata": {},
   "outputs": [
    {
     "name": "stdout",
     "output_type": "stream",
     "text": [
      "   ID   Name  Identifier  Age\n",
      "0   1  Alice           1   25\n",
      "1   2    Bob           2   30\n"
     ]
    }
   ],
   "source": [
    "data1 = {\n",
    "    'ID': [1, 2, 3],\n",
    "    'Name': ['Alice', 'Bob', 'Charlie']\n",
    "}\n",
    "df1 = pd.DataFrame(data1)\n",
    "\n",
    "# Sample data for DataFrame 2\n",
    "data2 = {\n",
    "    'Identifier': [1, 2, 4],\n",
    "    'Age': [25, 30, 35]\n",
    "}\n",
    "df2 = pd.DataFrame(data2)\n",
    "\n",
    "# Merging the DataFrames using different column names\n",
    "merged_df = pd.merge(df1, df2, left_on='ID', right_on='Identifier')\n",
    "print(merged_df)"
   ]
  },
  {
   "cell_type": "code",
   "execution_count": null,
   "id": "d6e0eb7e-3bd1-47d3-b7b8-6683fd79b40b",
   "metadata": {},
   "outputs": [],
   "source": []
  }
 ],
 "metadata": {
  "kernelspec": {
   "display_name": "Python 3 (ipykernel)",
   "language": "python",
   "name": "python3"
  },
  "language_info": {
   "codemirror_mode": {
    "name": "ipython",
    "version": 3
   },
   "file_extension": ".py",
   "mimetype": "text/x-python",
   "name": "python",
   "nbconvert_exporter": "python",
   "pygments_lexer": "ipython3",
   "version": "3.12.3"
  }
 },
 "nbformat": 4,
 "nbformat_minor": 5
}
