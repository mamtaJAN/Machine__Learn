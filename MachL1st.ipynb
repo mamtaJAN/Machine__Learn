{
 "cells": [
  {
   "cell_type": "code",
   "execution_count": 1,
   "id": "9a7d6d8e-d50a-4a0a-8db4-ff786ce43468",
   "metadata": {},
   "outputs": [
    {
     "name": "stdout",
     "output_type": "stream",
     "text": [
      "Requirement already satisfied: numpy in c:\\python310\\lib\\site-packages (2.0.1)\n"
     ]
    },
    {
     "name": "stderr",
     "output_type": "stream",
     "text": [
      "\n",
      "[notice] A new release of pip is available: 24.0 -> 24.1.2\n",
      "[notice] To update, run: python.exe -m pip install --upgrade pip\n"
     ]
    }
   ],
   "source": [
    "import numpy as np \n",
    "!pip install  numpy "
   ]
  },
  {
   "cell_type": "code",
   "execution_count": 2,
   "id": "8137ccef-5417-4c39-b578-1b58ad797272",
   "metadata": {},
   "outputs": [],
   "source": [
    "# Numpy ===> Numpy is an open-source library that is used for scientific calculations . \n",
    "\n",
    "# Why Numpy is better than List ? \n",
    "# (1). List is hetrogeneous  while Numpy is homogeneous .\n",
    "# (2). List consumes more memory as compare to Numpy . \n",
    "# (3). List has more execution time as compare to Numpy . "
   ]
  },
  {
   "cell_type": "code",
   "execution_count": 3,
   "id": "7df91ad2-1407-4c46-acbe-c2c1128cabfb",
   "metadata": {},
   "outputs": [
    {
     "data": {
      "text/plain": [
       "array([ 1, 45, 78, 90])"
      ]
     },
     "execution_count": 3,
     "metadata": {},
     "output_type": "execute_result"
    }
   ],
   "source": [
    "a = [1,45,78,90]\n",
    "b = np.array(a) \n",
    "b"
   ]
  },
  {
   "cell_type": "code",
   "execution_count": 4,
   "id": "ab1a6305-e86d-48d3-853b-ea34907b12d4",
   "metadata": {},
   "outputs": [
    {
     "data": {
      "text/plain": [
       "numpy.ndarray"
      ]
     },
     "execution_count": 4,
     "metadata": {},
     "output_type": "execute_result"
    }
   ],
   "source": [
    "type(b) "
   ]
  },
  {
   "cell_type": "code",
   "execution_count": 5,
   "id": "e91fd54b-eaab-4f1f-9698-3c6c30263d86",
   "metadata": {},
   "outputs": [
    {
     "data": {
      "text/plain": [
       "array([[ 1,  2,  3, 12],\n",
       "       [ 4,  5,  6, 11],\n",
       "       [ 7,  8,  9, 10]])"
      ]
     },
     "execution_count": 5,
     "metadata": {},
     "output_type": "execute_result"
    }
   ],
   "source": [
    "a = [[1,2,3,12] , [4,5,6,11] , [7,8,9,10]]\n",
    "b=  np.array(a) \n",
    "b"
   ]
  },
  {
   "cell_type": "code",
   "execution_count": 6,
   "id": "acce55ce-2ae9-42dd-8c8b-9fe466ac0e64",
   "metadata": {},
   "outputs": [
    {
     "name": "stdout",
     "output_type": "stream",
     "text": [
      "Total Elements =  12\n",
      "Total Rows and columns =  (3, 4)\n",
      "Total Dimension =  2\n"
     ]
    }
   ],
   "source": [
    "print(\"Total Elements = \" , b.size) ## total elements = row*columns \n",
    "print(\"Total Rows and columns = \" , b.shape)  ## shape = rows , columns \n",
    "print(\"Total Dimension = \" , b.ndim)   ### 2 -Dimension ===> x,y "
   ]
  },
  {
   "cell_type": "code",
   "execution_count": 7,
   "id": "c96a4b99-3c20-4216-b8d6-84dc8571c1ad",
   "metadata": {},
   "outputs": [],
   "source": [
    "# Images ===> Pixels (0-255px) ===> Normalize (0-1px) \n",
    "# DataSet ===> dummy entry ===> numpy \n",
    "# Matrix ===> row , column \n",
    "# Symmatric Matrix  = row = column \n",
    "# Asymmatric Matrix = n(row) != n(column) \n",
    "# Digonal Elements = [(1,1) , (2,2) , (3,3) , (4,4).....(n,n)]"
   ]
  },
  {
   "cell_type": "code",
   "execution_count": 8,
   "id": "ff55c79b-0c1c-438f-9a7d-c6f8330f3764",
   "metadata": {},
   "outputs": [
    {
     "data": {
      "text/plain": [
       "array([0., 0., 0., 0.])"
      ]
     },
     "execution_count": 8,
     "metadata": {},
     "output_type": "execute_result"
    }
   ],
   "source": [
    "# (1). zeros() ===> it will create an array in which we have all the values are zero . \n",
    "np.zeros(4) "
   ]
  },
  {
   "cell_type": "code",
   "execution_count": 9,
   "id": "e5b00acb-77f4-4f3e-9d9c-26ce3a91d381",
   "metadata": {},
   "outputs": [
    {
     "data": {
      "text/plain": [
       "array([[0., 0., 0.],\n",
       "       [0., 0., 0.]])"
      ]
     },
     "execution_count": 9,
     "metadata": {},
     "output_type": "execute_result"
    }
   ],
   "source": [
    "np.zeros((2,3))"
   ]
  },
  {
   "cell_type": "code",
   "execution_count": 10,
   "id": "b050d41a-979c-4a6b-a967-2b7598c61670",
   "metadata": {},
   "outputs": [
    {
     "data": {
      "text/plain": [
       "array([1., 1., 1.])"
      ]
     },
     "execution_count": 10,
     "metadata": {},
     "output_type": "execute_result"
    }
   ],
   "source": [
    "# (2). ones() ===>>> It will create an array in which we have all the values are 1 . \n",
    "np.ones(3) "
   ]
  },
  {
   "cell_type": "code",
   "execution_count": 11,
   "id": "b3571403-1aec-45ab-ba88-a8f77e971140",
   "metadata": {},
   "outputs": [
    {
     "data": {
      "text/plain": [
       "array([[1., 1., 1.],\n",
       "       [1., 1., 1.]])"
      ]
     },
     "execution_count": 11,
     "metadata": {},
     "output_type": "execute_result"
    }
   ],
   "source": [
    "np.ones((2,3))"
   ]
  },
  {
   "cell_type": "code",
   "execution_count": 12,
   "id": "18c382d7-dc8d-4c6d-ba30-7591107c78ba",
   "metadata": {},
   "outputs": [
    {
     "data": {
      "text/plain": [
       "array([[1., 0., 0., 0.],\n",
       "       [0., 1., 0., 0.],\n",
       "       [0., 0., 1., 0.],\n",
       "       [0., 0., 0., 1.]])"
      ]
     },
     "execution_count": 12,
     "metadata": {},
     "output_type": "execute_result"
    }
   ],
   "source": [
    "# (3). eye() ====>>>> It will create an array in which digonal positional \n",
    "# elements are 1 and rest all are 0 . \n",
    "\n",
    "np.eye(4)   ## Symatric Matrix "
   ]
  },
  {
   "cell_type": "code",
   "execution_count": 13,
   "id": "14871809-d043-4e31-af4f-ac1ed002dce4",
   "metadata": {},
   "outputs": [
    {
     "data": {
      "text/plain": [
       "array([[1., 0., 0.],\n",
       "       [0., 1., 0.]])"
      ]
     },
     "execution_count": 13,
     "metadata": {},
     "output_type": "execute_result"
    }
   ],
   "source": [
    "np.eye(2,3)  ## Asymmatric Matrix "
   ]
  },
  {
   "cell_type": "code",
   "execution_count": 14,
   "id": "964e4a05-def7-420d-a5ec-9e8b5b7bc468",
   "metadata": {},
   "outputs": [],
   "source": [
    "# (4). diag() ==== \n",
    "import numpy as np "
   ]
  },
  {
   "cell_type": "code",
   "execution_count": 15,
   "id": "90657bc8-6cc6-4914-a4ff-1ff38de9f6ea",
   "metadata": {},
   "outputs": [
    {
     "data": {
      "text/plain": [
       "array([[ 1,  0,  0,  0],\n",
       "       [ 0, 45,  0,  0],\n",
       "       [ 0,  0, 78,  0],\n",
       "       [ 0,  0,  0, 90]])"
      ]
     },
     "execution_count": 15,
     "metadata": {},
     "output_type": "execute_result"
    }
   ],
   "source": [
    "a = np.diag([1,45,78,90])\n",
    "a"
   ]
  },
  {
   "cell_type": "code",
   "execution_count": 16,
   "id": "a3901937-98b1-403d-be99-5f333f78bce8",
   "metadata": {},
   "outputs": [],
   "source": [
    "# (5). Random Module ===> \n",
    "# (a). Randint() ===> np.random.randint(min_number , max_number , total_numbers)\n",
    "# (b). Rand() ====> 0-1 random numbers . \n",
    "# (c). randn() ===> -3 to +3 . \n",
    "# (d). seed() ===> fix our random numbers . "
   ]
  },
  {
   "cell_type": "code",
   "execution_count": 19,
   "id": "d95f4b51-8d56-46fb-9a78-6ce435bc2e9b",
   "metadata": {},
   "outputs": [
    {
     "data": {
      "text/plain": [
       "array([5, 6, 7], dtype=int32)"
      ]
     },
     "execution_count": 19,
     "metadata": {},
     "output_type": "execute_result"
    }
   ],
   "source": [
    "a = np.random.randint(1,10,3)\n",
    "a\n",
    "a = np.random.randint(1,10,3)\n",
    "a"
   ]
  },
  {
   "cell_type": "code",
   "execution_count": 18,
   "id": "3253bc22-36df-424c-919f-97269680047d",
   "metadata": {},
   "outputs": [
    {
     "data": {
      "text/plain": [
       "array([0.67632347, 0.39079329, 0.14347783, 0.39280976])"
      ]
     },
     "execution_count": 18,
     "metadata": {},
     "output_type": "execute_result"
    }
   ],
   "source": [
    "a = np.random.rand(4)\n",
    "a"
   ]
  },
  {
   "cell_type": "code",
   "execution_count": 20,
   "id": "c096f748-b031-424f-8e43-eb975b434bff",
   "metadata": {},
   "outputs": [
    {
     "data": {
      "text/plain": [
       "array([0.84266575, 0.74603225, 0.01819939, 0.39453556])"
      ]
     },
     "execution_count": 20,
     "metadata": {},
     "output_type": "execute_result"
    }
   ],
   "source": [
    "a = np.random.rand(4)\n",
    "a"
   ]
  },
  {
   "cell_type": "code",
   "execution_count": 21,
   "id": "d4a3e499-defb-4666-998c-09b7fd8a34b2",
   "metadata": {},
   "outputs": [
    {
     "data": {
      "text/plain": [
       "array([0.51800593, 0.44254879, 0.19527504])"
      ]
     },
     "execution_count": 21,
     "metadata": {},
     "output_type": "execute_result"
    }
   ],
   "source": [
    "a = np.random.randn(3)\n",
    "a"
   ]
  },
  {
   "cell_type": "code",
   "execution_count": 22,
   "id": "3e7f0452-e5d0-4736-893f-d5a8eaceaeca",
   "metadata": {},
   "outputs": [
    {
     "data": {
      "text/plain": [
       "array([4, 1, 6], dtype=int32)"
      ]
     },
     "execution_count": 22,
     "metadata": {},
     "output_type": "execute_result"
    }
   ],
   "source": [
    "np.random.seed(45)\n",
    "\n",
    "a = np.random.randint(1,10,3)\n",
    "a"
   ]
  },
  {
   "cell_type": "code",
   "execution_count": 23,
   "id": "0040c500-6bed-4183-85bb-1c580a221cc1",
   "metadata": {},
   "outputs": [],
   "source": [
    "# matrix ===> reshape ===> \n",
    "# row* column = total_elements "
   ]
  },
  {
   "cell_type": "code",
   "execution_count": 24,
   "id": "1b9c4e8c-65b7-42a5-b643-eef83aca71c4",
   "metadata": {},
   "outputs": [
    {
     "data": {
      "text/plain": [
       "array([36,  5, 16,  2, 15,  9, 24, 47,  9, 13, 35, 25], dtype=int32)"
      ]
     },
     "execution_count": 24,
     "metadata": {},
     "output_type": "execute_result"
    }
   ],
   "source": [
    "a = np.random.randint(1,50,12)\n",
    "a"
   ]
  },
  {
   "cell_type": "code",
   "execution_count": 25,
   "id": "4d1fb634-9b52-4906-a262-2f1c7d9c09c2",
   "metadata": {},
   "outputs": [
    {
     "data": {
      "text/plain": [
       "array([[36,  5, 16,  2, 15,  9],\n",
       "       [24, 47,  9, 13, 35, 25]], dtype=int32)"
      ]
     },
     "execution_count": 25,
     "metadata": {},
     "output_type": "execute_result"
    }
   ],
   "source": [
    "a.reshape(2,6)"
   ]
  },
  {
   "cell_type": "code",
   "execution_count": 26,
   "id": "04457eed-1b15-421c-beab-9244b99b771e",
   "metadata": {},
   "outputs": [
    {
     "data": {
      "text/plain": [
       "array([[36,  5],\n",
       "       [16,  2],\n",
       "       [15,  9],\n",
       "       [24, 47],\n",
       "       [ 9, 13],\n",
       "       [35, 25]], dtype=int32)"
      ]
     },
     "execution_count": 26,
     "metadata": {},
     "output_type": "execute_result"
    }
   ],
   "source": [
    "a.reshape(6,2)"
   ]
  },
  {
   "cell_type": "code",
   "execution_count": 27,
   "id": "f40e5eee-bfab-4297-aad5-547d35e3987e",
   "metadata": {},
   "outputs": [
    {
     "data": {
      "text/plain": [
       "array([[36,  5, 16,  2],\n",
       "       [15,  9, 24, 47],\n",
       "       [ 9, 13, 35, 25]], dtype=int32)"
      ]
     },
     "execution_count": 27,
     "metadata": {},
     "output_type": "execute_result"
    }
   ],
   "source": [
    "a.reshape(3,4)"
   ]
  },
  {
   "cell_type": "code",
   "execution_count": 28,
   "id": "4a353ddf-2fe2-4fa0-99de-62ebbb37274a",
   "metadata": {},
   "outputs": [
    {
     "data": {
      "text/plain": [
       "array([[36,  5, 16],\n",
       "       [ 2, 15,  9],\n",
       "       [24, 47,  9],\n",
       "       [13, 35, 25]], dtype=int32)"
      ]
     },
     "execution_count": 28,
     "metadata": {},
     "output_type": "execute_result"
    }
   ],
   "source": [
    "a.reshape(4,3)"
   ]
  },
  {
   "cell_type": "code",
   "execution_count": 29,
   "id": "8344080c-2d6a-4425-855b-036e8b3083b2",
   "metadata": {},
   "outputs": [
    {
     "ename": "ValueError",
     "evalue": "cannot reshape array of size 12 into shape (5,6)",
     "output_type": "error",
     "traceback": [
      "\u001b[1;31m---------------------------------------------------------------------------\u001b[0m",
      "\u001b[1;31mValueError\u001b[0m                                Traceback (most recent call last)",
      "Cell \u001b[1;32mIn[29], line 1\u001b[0m\n\u001b[1;32m----> 1\u001b[0m \u001b[43ma\u001b[49m\u001b[38;5;241;43m.\u001b[39;49m\u001b[43mreshape\u001b[49m\u001b[43m(\u001b[49m\u001b[38;5;241;43m5\u001b[39;49m\u001b[43m,\u001b[49m\u001b[38;5;241;43m6\u001b[39;49m\u001b[43m)\u001b[49m\n",
      "\u001b[1;31mValueError\u001b[0m: cannot reshape array of size 12 into shape (5,6)"
     ]
    }
   ],
   "source": [
    "a.reshape(5,6)"
   ]
  },
  {
   "cell_type": "code",
   "execution_count": 30,
   "id": "20f79894-0b1d-42b9-886c-071dc2363b91",
   "metadata": {},
   "outputs": [
    {
     "data": {
      "text/plain": [
       "array([10, 20, 30,  0,  0,  0, 70, 80])"
      ]
     },
     "execution_count": 30,
     "metadata": {},
     "output_type": "execute_result"
    }
   ],
   "source": [
    "a = np.array([10,20,30,40,50,60,70,80])\n",
    "b = a[3:6]\n",
    "b[:] = 0 \n",
    "a"
   ]
  },
  {
   "cell_type": "code",
   "execution_count": 31,
   "id": "9221749f-8c13-4838-84de-afa97d9310c8",
   "metadata": {},
   "outputs": [
    {
     "data": {
      "text/plain": [
       "array([10, 20, 30, 40, 50, 60, 70, 80])"
      ]
     },
     "execution_count": 31,
     "metadata": {},
     "output_type": "execute_result"
    }
   ],
   "source": [
    "a = np.array([10,20,30,40,50,60,70,80])\n",
    "b = a[3:6].copy() \n",
    "b[:] = 0 \n",
    "b\n",
    "a"
   ]
  },
  {
   "cell_type": "code",
   "execution_count": 32,
   "id": "58c31f46-198c-482b-924d-6a56e32833aa",
   "metadata": {},
   "outputs": [
    {
     "data": {
      "text/plain": [
       "array([1.  , 1.25, 1.5 , 1.75, 2.  ])"
      ]
     },
     "execution_count": 32,
     "metadata": {},
     "output_type": "execute_result"
    }
   ],
   "source": [
    "# LinSpace() ====> same gap values \n",
    "a = np.linspace(1,2,5)\n",
    "a"
   ]
  },
  {
   "cell_type": "code",
   "execution_count": 33,
   "id": "7e8a93d4-9190-411d-a1aa-c19c3f2a8ba9",
   "metadata": {},
   "outputs": [
    {
     "data": {
      "text/plain": [
       "(array([10, 20, 30, 40, 50]), array([0, 1, 2, 7, 8]), array([5, 1, 1, 1, 1]))"
      ]
     },
     "execution_count": 33,
     "metadata": {},
     "output_type": "execute_result"
    }
   ],
   "source": [
    "# Unique() ====> \n",
    "a = np.array([10,20,30,10,10,10,10,40,50])\n",
    "np.unique(a , return_index = True , return_counts = True)"
   ]
  },
  {
   "cell_type": "code",
   "execution_count": 34,
   "id": "65ff3120-458f-4aef-9186-f0b892aabd77",
   "metadata": {},
   "outputs": [],
   "source": [
    "# Conditional Selection in Numpy"
   ]
  },
  {
   "cell_type": "code",
   "execution_count": 35,
   "id": "d376b016-9c12-4f1a-aa87-64a1f981b79d",
   "metadata": {},
   "outputs": [
    {
     "data": {
      "text/plain": [
       "array([ 1,  2,  3,  4,  5,  6,  7,  8,  9, 10, 11, 12, 13, 14, 15])"
      ]
     },
     "execution_count": 35,
     "metadata": {},
     "output_type": "execute_result"
    }
   ],
   "source": [
    "a = np.arange(1,16,1)\n",
    "a"
   ]
  },
  {
   "cell_type": "code",
   "execution_count": 36,
   "id": "a514d6ea-5d38-497e-bcee-448896d29b25",
   "metadata": {},
   "outputs": [
    {
     "data": {
      "text/plain": [
       "array([False, False, False, False, False, False, False, False, False,\n",
       "       False,  True,  True,  True,  True,  True])"
      ]
     },
     "execution_count": 36,
     "metadata": {},
     "output_type": "execute_result"
    }
   ],
   "source": [
    "a>10"
   ]
  },
  {
   "cell_type": "code",
   "execution_count": 37,
   "id": "8b604b9a-535a-410f-8e52-233d2d92b237",
   "metadata": {},
   "outputs": [
    {
     "data": {
      "text/plain": [
       "array([11, 12, 13, 14, 15])"
      ]
     },
     "execution_count": 37,
     "metadata": {},
     "output_type": "execute_result"
    }
   ],
   "source": [
    "b = a>10 \n",
    "a[b]"
   ]
  },
  {
   "cell_type": "code",
   "execution_count": 38,
   "id": "382acb03-9400-448c-9783-46bbd2cf5533",
   "metadata": {},
   "outputs": [
    {
     "data": {
      "text/plain": [
       "array([ 2,  4,  6,  8, 10, 12, 14])"
      ]
     },
     "execution_count": 38,
     "metadata": {},
     "output_type": "execute_result"
    }
   ],
   "source": [
    "a[a%2 == 0] "
   ]
  },
  {
   "cell_type": "code",
   "execution_count": 39,
   "id": "600db623-df2f-441c-b3f0-4c2e920e0282",
   "metadata": {},
   "outputs": [
    {
     "data": {
      "text/plain": [
       "array([[1, 2],\n",
       "       [3, 4]])"
      ]
     },
     "execution_count": 39,
     "metadata": {},
     "output_type": "execute_result"
    }
   ],
   "source": [
    "a = np.arange(1,5).reshape(2,2)\n",
    "a"
   ]
  },
  {
   "cell_type": "code",
   "execution_count": 40,
   "id": "deb67d07-6c58-4e81-b8b8-971c28b495e1",
   "metadata": {},
   "outputs": [
    {
     "data": {
      "text/plain": [
       "array([[5, 6],\n",
       "       [7, 8]])"
      ]
     },
     "execution_count": 40,
     "metadata": {},
     "output_type": "execute_result"
    }
   ],
   "source": [
    "b = np.arange(5,9).reshape(2,2)\n",
    "b"
   ]
  },
  {
   "cell_type": "code",
   "execution_count": 41,
   "id": "20aa323a-034f-4795-b8da-9310caee6da3",
   "metadata": {},
   "outputs": [
    {
     "data": {
      "text/plain": [
       "array([[ 6,  8],\n",
       "       [10, 12]])"
      ]
     },
     "execution_count": 41,
     "metadata": {},
     "output_type": "execute_result"
    }
   ],
   "source": [
    "a+b  ## 1+5 = 6 , 2+6 = 8 , 3+7 = 10 , 4+8 = 12 "
   ]
  },
  {
   "cell_type": "code",
   "execution_count": 42,
   "id": "234227e7-410e-4c51-ba51-9a15920b9de7",
   "metadata": {},
   "outputs": [],
   "source": [
    "# a - b "
   ]
  },
  {
   "cell_type": "code",
   "execution_count": 43,
   "id": "4538ce4b-10d8-4a43-83ef-367ce90ca184",
   "metadata": {},
   "outputs": [
    {
     "data": {
      "text/plain": [
       "array([[19, 22],\n",
       "       [43, 50]])"
      ]
     },
     "execution_count": 43,
     "metadata": {},
     "output_type": "execute_result"
    }
   ],
   "source": [
    "a.dot(b)  ### for matrix multiplication "
   ]
  },
  {
   "cell_type": "code",
   "execution_count": 44,
   "id": "958518e4-f67f-4950-a989-9bdb2992f726",
   "metadata": {},
   "outputs": [],
   "source": [
    "# Stacking ====> \n",
    "\n",
    "# (a). hstack() ===> horizontally adds 2 or more arrays . \n",
    "# (b). vstack() ====> vertically adds 2 or more arrays . "
   ]
  },
  {
   "cell_type": "code",
   "execution_count": 45,
   "id": "c651d71a-6f0e-4f43-a5c9-06e6d5cc0ee2",
   "metadata": {},
   "outputs": [
    {
     "data": {
      "text/plain": [
       "array([ 1,  2,  3,  4,  5,  6,  7,  8,  9, 10, 11, 12])"
      ]
     },
     "execution_count": 45,
     "metadata": {},
     "output_type": "execute_result"
    }
   ],
   "source": [
    "a = np.array([1,2,3,4])\n",
    "b = np.array([5,6,7,8])\n",
    "c = np.array([9,10,11,12])\n",
    "np.hstack((a,b,c))"
   ]
  },
  {
   "cell_type": "code",
   "execution_count": 46,
   "id": "2937596b-8faa-4275-9fe1-bc901e238e58",
   "metadata": {},
   "outputs": [
    {
     "data": {
      "text/plain": [
       "array([[ 1,  2,  3,  4],\n",
       "       [ 5,  6,  7,  8],\n",
       "       [ 9, 10, 11, 12]])"
      ]
     },
     "execution_count": 46,
     "metadata": {},
     "output_type": "execute_result"
    }
   ],
   "source": [
    "np.vstack((a,b,c))"
   ]
  },
  {
   "cell_type": "code",
   "execution_count": null,
   "id": "cd98a26c-b115-48ec-abc6-48bbc627a184",
   "metadata": {},
   "outputs": [],
   "source": []
  }
 ],
 "metadata": {
  "kernelspec": {
   "display_name": "Python 3 (ipykernel)",
   "language": "python",
   "name": "python3"
  },
  "language_info": {
   "codemirror_mode": {
    "name": "ipython",
    "version": 3
   },
   "file_extension": ".py",
   "mimetype": "text/x-python",
   "name": "python",
   "nbconvert_exporter": "python",
   "pygments_lexer": "ipython3",
   "version": "3.10.11"
  }
 },
 "nbformat": 4,
 "nbformat_minor": 5
}
