{
 "cells": [
  {
   "cell_type": "code",
   "execution_count": 1,
   "id": "c4ef6020",
   "metadata": {},
   "outputs": [],
   "source": [
    "import numpy as np "
   ]
  },
  {
   "cell_type": "code",
   "execution_count": null,
   "id": "2831f837",
   "metadata": {},
   "outputs": [],
   "source": [
    "!pip install  numpy "
   ]
  },
  {
   "cell_type": "code",
   "execution_count": 2,
   "id": "669f1656",
   "metadata": {},
   "outputs": [],
   "source": [
    "# Numpy ===> Numpy is an open-source library that is used for scientific calculations . \n",
    "\n",
    "# Why Numpy is better than List ? \n",
    "# (1). List is hetrogeneous  while Numpy is homogeneous .\n",
    "# (2). List consumes more memory as compare to Numpy . \n",
    "# (3). List has more execution time as compare to Numpy . "
   ]
  },
  {
   "cell_type": "code",
   "execution_count": 3,
   "id": "7a13339c",
   "metadata": {},
   "outputs": [
    {
     "data": {
      "text/plain": [
       "array([ 1, 45, 78, 90])"
      ]
     },
     "execution_count": 3,
     "metadata": {},
     "output_type": "execute_result"
    }
   ],
   "source": [
    "a = [1,45,78,90]\n",
    "b = np.array(a) \n",
    "b"
   ]
  },
  {
   "cell_type": "code",
   "execution_count": 4,
   "id": "96b6df38",
   "metadata": {},
   "outputs": [
    {
     "data": {
      "text/plain": [
       "numpy.ndarray"
      ]
     },
     "execution_count": 4,
     "metadata": {},
     "output_type": "execute_result"
    }
   ],
   "source": [
    "type(b) "
   ]
  },
  {
   "cell_type": "code",
   "execution_count": 5,
   "id": "b35b2469",
   "metadata": {},
   "outputs": [
    {
     "data": {
      "text/plain": [
       "array([[ 1,  2,  3, 12],\n",
       "       [ 4,  5,  6, 11],\n",
       "       [ 7,  8,  9, 10]])"
      ]
     },
     "execution_count": 5,
     "metadata": {},
     "output_type": "execute_result"
    }
   ],
   "source": [
    "a = [[1,2,3,12] , [4,5,6,11] , [7,8,9,10]]\n",
    "b=  np.array(a) \n",
    "b"
   ]
  },
  {
   "cell_type": "code",
   "execution_count": 8,
   "id": "7c8bb08f",
   "metadata": {},
   "outputs": [
    {
     "name": "stdout",
     "output_type": "stream",
     "text": [
      "Total Elements =  12\n",
      "Total Rows and columns =  (3, 4)\n",
      "Total Dimension =  2\n"
     ]
    }
   ],
   "source": [
    "print(\"Total Elements = \" , b.size) ## total elements = row*columns \n",
    "print(\"Total Rows and columns = \" , b.shape)  ## shape = rows , columns \n",
    "print(\"Total Dimension = \" , b.ndim)   ### 2 -Dimension ===> x,y "
   ]
  },
  {
   "cell_type": "code",
   "execution_count": 9,
   "id": "06cd3aa0",
   "metadata": {},
   "outputs": [],
   "source": [
    "# Images ===> Pixels (0-255px) ===> Normalize (0-1px) \n",
    "# DataSet ===> dummy entry ===> numpy \n",
    "# Matrix ===> row , column \n",
    "# Symmatric Matrix  = row = column \n",
    "# Asymmatric Matrix = n(row) != n(column) \n",
    "# Digonal Elements = [(1,1) , (2,2) , (3,3) , (4,4).....(n,n)]"
   ]
  },
  {
   "cell_type": "code",
   "execution_count": 10,
   "id": "29a53dda",
   "metadata": {},
   "outputs": [
    {
     "data": {
      "text/plain": [
       "array([0., 0., 0., 0.])"
      ]
     },
     "execution_count": 10,
     "metadata": {},
     "output_type": "execute_result"
    }
   ],
   "source": [
    "# (1). zeros() ===> it will create an array in which we have all the values are zero . \n",
    "np.zeros(4) "
   ]
  },
  {
   "cell_type": "code",
   "execution_count": 11,
   "id": "fbd6ee33",
   "metadata": {},
   "outputs": [
    {
     "data": {
      "text/plain": [
       "array([[0., 0., 0.],\n",
       "       [0., 0., 0.]])"
      ]
     },
     "execution_count": 11,
     "metadata": {},
     "output_type": "execute_result"
    }
   ],
   "source": [
    "np.zeros((2,3))"
   ]
  },
  {
   "cell_type": "code",
   "execution_count": 12,
   "id": "f113af4f",
   "metadata": {},
   "outputs": [
    {
     "data": {
      "text/plain": [
       "array([1., 1., 1.])"
      ]
     },
     "execution_count": 12,
     "metadata": {},
     "output_type": "execute_result"
    }
   ],
   "source": [
    "# (2). ones() ===>>> It will create an array in which we have all the values are 1 . \n",
    "np.ones(3) "
   ]
  },
  {
   "cell_type": "code",
   "execution_count": 13,
   "id": "1cbb411a",
   "metadata": {},
   "outputs": [
    {
     "data": {
      "text/plain": [
       "array([[1., 1., 1.],\n",
       "       [1., 1., 1.]])"
      ]
     },
     "execution_count": 13,
     "metadata": {},
     "output_type": "execute_result"
    }
   ],
   "source": [
    "np.ones((2,3))"
   ]
  },
  {
   "cell_type": "code",
   "execution_count": 14,
   "id": "21a7b894",
   "metadata": {},
   "outputs": [
    {
     "data": {
      "text/plain": [
       "array([[1., 0., 0., 0.],\n",
       "       [0., 1., 0., 0.],\n",
       "       [0., 0., 1., 0.],\n",
       "       [0., 0., 0., 1.]])"
      ]
     },
     "execution_count": 14,
     "metadata": {},
     "output_type": "execute_result"
    }
   ],
   "source": [
    "# (3). eye() ====>>>> It will create an array in which digonal positional \n",
    "# elements are 1 and rest all are 0 . \n",
    "\n",
    "np.eye(4)   ## Symatric Matrix "
   ]
  },
  {
   "cell_type": "code",
   "execution_count": 15,
   "id": "95a5caaa",
   "metadata": {},
   "outputs": [
    {
     "data": {
      "text/plain": [
       "array([[1., 0., 0.],\n",
       "       [0., 1., 0.]])"
      ]
     },
     "execution_count": 15,
     "metadata": {},
     "output_type": "execute_result"
    }
   ],
   "source": [
    "np.eye(2,3)  ## Asymmatric Matrix "
   ]
  },
  {
   "cell_type": "code",
   "execution_count": null,
   "id": "bad59eb2",
   "metadata": {},
   "outputs": [],
   "source": []
  }
 ],
 "metadata": {
  "kernelspec": {
   "display_name": "Python 3 (ipykernel)",
   "language": "python",
   "name": "python3"
  },
  "language_info": {
   "codemirror_mode": {
    "name": "ipython",
    "version": 3
   },
   "file_extension": ".py",
   "mimetype": "text/x-python",
   "name": "python",
   "nbconvert_exporter": "python",
   "pygments_lexer": "ipython3",
   "version": "3.9.12"
  }
 },
 "nbformat": 4,
 "nbformat_minor": 5
}
