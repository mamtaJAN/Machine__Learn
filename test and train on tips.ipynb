{
 "cells": [
  {
   "cell_type": "code",
   "execution_count": 1,
   "id": "92e1f53d-7d10-4f7a-ab62-925644b0375e",
   "metadata": {},
   "outputs": [],
   "source": [
    "import numpy as np\n",
    "import pandas as pd"
   ]
  },
  {
   "cell_type": "code",
   "execution_count": 2,
   "id": "51338c41-5220-4521-9308-bdf0f5f2975b",
   "metadata": {},
   "outputs": [],
   "source": [
    "df=pd.read_csv(\"tips.csv\")"
   ]
  },
  {
   "cell_type": "code",
   "execution_count": 3,
   "id": "5c0ebb1b-96e7-49b5-a3b3-9c1111f5ebd7",
   "metadata": {},
   "outputs": [
    {
     "data": {
      "text/html": [
       "<div>\n",
       "<style scoped>\n",
       "    .dataframe tbody tr th:only-of-type {\n",
       "        vertical-align: middle;\n",
       "    }\n",
       "\n",
       "    .dataframe tbody tr th {\n",
       "        vertical-align: top;\n",
       "    }\n",
       "\n",
       "    .dataframe thead th {\n",
       "        text-align: right;\n",
       "    }\n",
       "</style>\n",
       "<table border=\"1\" class=\"dataframe\">\n",
       "  <thead>\n",
       "    <tr style=\"text-align: right;\">\n",
       "      <th></th>\n",
       "      <th>total_bill</th>\n",
       "      <th>tip</th>\n",
       "      <th>sex</th>\n",
       "      <th>smoker</th>\n",
       "      <th>day</th>\n",
       "      <th>time</th>\n",
       "      <th>size</th>\n",
       "    </tr>\n",
       "  </thead>\n",
       "  <tbody>\n",
       "    <tr>\n",
       "      <th>0</th>\n",
       "      <td>16.99</td>\n",
       "      <td>1.01</td>\n",
       "      <td>Female</td>\n",
       "      <td>No</td>\n",
       "      <td>Sun</td>\n",
       "      <td>Dinner</td>\n",
       "      <td>2</td>\n",
       "    </tr>\n",
       "    <tr>\n",
       "      <th>1</th>\n",
       "      <td>10.34</td>\n",
       "      <td>1.66</td>\n",
       "      <td>Male</td>\n",
       "      <td>No</td>\n",
       "      <td>Sun</td>\n",
       "      <td>Dinner</td>\n",
       "      <td>3</td>\n",
       "    </tr>\n",
       "    <tr>\n",
       "      <th>2</th>\n",
       "      <td>21.01</td>\n",
       "      <td>3.50</td>\n",
       "      <td>Male</td>\n",
       "      <td>No</td>\n",
       "      <td>Sun</td>\n",
       "      <td>Dinner</td>\n",
       "      <td>3</td>\n",
       "    </tr>\n",
       "  </tbody>\n",
       "</table>\n",
       "</div>"
      ],
      "text/plain": [
       "   total_bill   tip     sex smoker  day    time  size\n",
       "0       16.99  1.01  Female     No  Sun  Dinner     2\n",
       "1       10.34  1.66    Male     No  Sun  Dinner     3\n",
       "2       21.01  3.50    Male     No  Sun  Dinner     3"
      ]
     },
     "execution_count": 3,
     "metadata": {},
     "output_type": "execute_result"
    }
   ],
   "source": [
    "df.head(3)"
   ]
  },
  {
   "cell_type": "code",
   "execution_count": 6,
   "id": "e7f66984-fecb-4b33-bcba-d1ab7e906a69",
   "metadata": {},
   "outputs": [],
   "source": [
    "x=df.drop(columns=['size'],axis=1)\n",
    "y=df['size']"
   ]
  },
  {
   "cell_type": "code",
   "execution_count": 7,
   "id": "9d254695-d6b8-43f2-ab58-1eb3632ea48a",
   "metadata": {},
   "outputs": [],
   "source": [
    "from sklearn.model_selection import train_test_split"
   ]
  },
  {
   "cell_type": "code",
   "execution_count": 8,
   "id": "8e1f8b8c-0442-46dd-aca5-e9aff8b9040d",
   "metadata": {},
   "outputs": [],
   "source": [
    "x_train , x_test , y_train , y_test = train_test_split(x,y,test_size = 0.3 , random_state = 30)"
   ]
  },
  {
   "cell_type": "code",
   "execution_count": 9,
   "id": "8e2b6acb-b7dd-46a8-89d8-77310db02e2e",
   "metadata": {},
   "outputs": [
    {
     "name": "stdout",
     "output_type": "stream",
     "text": [
      "Total Data Shape : (244, 7)\n",
      "Independet Data Shape(x) : (244, 6)\n",
      "x_train Data Shape(x_train) : (170, 6)\n",
      "x_test Data Shape(x_test) : (74, 6)\n",
      "Dependent Data Shape(y) : (244,)\n",
      "y_train Data Shape(y_train) : (170,)\n",
      "y_test Data Shape(y_test) : (74,)\n"
     ]
    }
   ],
   "source": [
    "print(\"Total Data Shape :\" , df.shape)\n",
    "print(\"Independet Data Shape(x) :\" , x.shape)\n",
    "print(\"x_train Data Shape(x_train) :\" , x_train.shape)\n",
    "print(\"x_test Data Shape(x_test) :\" , x_test.shape)\n",
    "print(\"Dependent Data Shape(y) :\" , y.shape)\n",
    "print(\"y_train Data Shape(y_train) :\" , y_train.shape)\n",
    "print(\"y_test Data Shape(y_test) :\" , y_test.shape)"
   ]
  },
  {
   "cell_type": "code",
   "execution_count": 10,
   "id": "99451dbf-f6bc-4cb3-91be-37ed8edd5d4b",
   "metadata": {},
   "outputs": [
    {
     "data": {
      "text/html": [
       "<div>\n",
       "<style scoped>\n",
       "    .dataframe tbody tr th:only-of-type {\n",
       "        vertical-align: middle;\n",
       "    }\n",
       "\n",
       "    .dataframe tbody tr th {\n",
       "        vertical-align: top;\n",
       "    }\n",
       "\n",
       "    .dataframe thead th {\n",
       "        text-align: right;\n",
       "    }\n",
       "</style>\n",
       "<table border=\"1\" class=\"dataframe\">\n",
       "  <thead>\n",
       "    <tr style=\"text-align: right;\">\n",
       "      <th></th>\n",
       "      <th>total_bill</th>\n",
       "      <th>tip</th>\n",
       "      <th>sex</th>\n",
       "      <th>smoker</th>\n",
       "      <th>day</th>\n",
       "      <th>time</th>\n",
       "      <th>size</th>\n",
       "    </tr>\n",
       "  </thead>\n",
       "  <tbody>\n",
       "    <tr>\n",
       "      <th>0</th>\n",
       "      <td>16.99</td>\n",
       "      <td>1.01</td>\n",
       "      <td>Female</td>\n",
       "      <td>No</td>\n",
       "      <td>Sun</td>\n",
       "      <td>Dinner</td>\n",
       "      <td>2</td>\n",
       "    </tr>\n",
       "    <tr>\n",
       "      <th>1</th>\n",
       "      <td>10.34</td>\n",
       "      <td>1.66</td>\n",
       "      <td>Male</td>\n",
       "      <td>No</td>\n",
       "      <td>Sun</td>\n",
       "      <td>Dinner</td>\n",
       "      <td>3</td>\n",
       "    </tr>\n",
       "  </tbody>\n",
       "</table>\n",
       "</div>"
      ],
      "text/plain": [
       "   total_bill   tip     sex smoker  day    time  size\n",
       "0       16.99  1.01  Female     No  Sun  Dinner     2\n",
       "1       10.34  1.66    Male     No  Sun  Dinner     3"
      ]
     },
     "execution_count": 10,
     "metadata": {},
     "output_type": "execute_result"
    }
   ],
   "source": [
    "df.head(2)"
   ]
  },
  {
   "cell_type": "code",
   "execution_count": 11,
   "id": "a8b313bd-f26f-4d88-9087-d780c654cc11",
   "metadata": {},
   "outputs": [
    {
     "data": {
      "text/plain": [
       "total_bill    0\n",
       "tip           0\n",
       "sex           0\n",
       "smoker        0\n",
       "day           0\n",
       "time          0\n",
       "size          0\n",
       "dtype: int64"
      ]
     },
     "execution_count": 11,
     "metadata": {},
     "output_type": "execute_result"
    }
   ],
   "source": [
    "df.isnull().sum()"
   ]
  },
  {
   "cell_type": "code",
   "execution_count": 12,
   "id": "24eb6f21-d7b8-4706-a9c8-65304cbdd2b1",
   "metadata": {},
   "outputs": [],
   "source": [
    "x = df.drop(columns = ['total_bill'] , axis = 1)\n",
    "y = df['total_bill']\n",
    "from sklearn.model_selection import train_test_split "
   ]
  },
  {
   "cell_type": "code",
   "execution_count": 13,
   "id": "1e3a153a-0e52-4cf4-bbcf-2b01859ab03e",
   "metadata": {},
   "outputs": [],
   "source": [
    "x_train , x_test , y_train , y_test = train_test_split(x,y,test_size  = 0.2 , random_state = 42)"
   ]
  },
  {
   "cell_type": "code",
   "execution_count": 14,
   "id": "570f2f40-83ea-4af6-a0f0-5811c6c2691c",
   "metadata": {},
   "outputs": [
    {
     "name": "stdout",
     "output_type": "stream",
     "text": [
      "Total Data Shape : (244, 7)\n",
      "Independet Data Shape(x) : (244, 6)\n",
      "x_train Data Shape(x_train) : (195, 6)\n",
      "x_test Data Shape(x_test) : (49, 6)\n",
      "Dependent Data Shape(y) : (244,)\n",
      "y_train Data Shape(y_train) : (195,)\n",
      "y_test Data Shape(y_test) : (49,)\n"
     ]
    }
   ],
   "source": [
    "print(\"Total Data Shape :\" , df.shape)\n",
    "print(\"Independet Data Shape(x) :\" , x.shape)\n",
    "print(\"x_train Data Shape(x_train) :\" , x_train.shape)\n",
    "print(\"x_test Data Shape(x_test) :\" , x_test.shape)\n",
    "print(\"Dependent Data Shape(y) :\" , y.shape)\n",
    "print(\"y_train Data Shape(y_train) :\" , y_train.shape)\n",
    "print(\"y_test Data Shape(y_test) :\" , y_test.shape)"
   ]
  },
  {
   "cell_type": "code",
   "execution_count": null,
   "id": "8d7b8937-a531-4a22-98e5-f002b6f8d6cf",
   "metadata": {},
   "outputs": [],
   "source": []
  }
 ],
 "metadata": {
  "kernelspec": {
   "display_name": "Python 3 (ipykernel)",
   "language": "python",
   "name": "python3"
  },
  "language_info": {
   "codemirror_mode": {
    "name": "ipython",
    "version": 3
   },
   "file_extension": ".py",
   "mimetype": "text/x-python",
   "name": "python",
   "nbconvert_exporter": "python",
   "pygments_lexer": "ipython3",
   "version": "3.10.11"
  }
 },
 "nbformat": 4,
 "nbformat_minor": 5
}
